{
 "cells": [
  {
   "cell_type": "code",
   "execution_count": 1,
   "metadata": {
    "collapsed": true
   },
   "outputs": [],
   "source": [
    "import pandas as pd\n",
    "import pickle"
   ]
  },
  {
   "cell_type": "code",
   "execution_count": 2,
   "metadata": {
    "collapsed": true
   },
   "outputs": [],
   "source": [
    "file2 = open(r'mydata.pkl', 'rb')\n",
    "mydat = pickle.load(file2)\n",
    "file2.close()"
   ]
  },
  {
   "cell_type": "code",
   "execution_count": 6,
   "metadata": {
    "collapsed": false
   },
   "outputs": [
    {
     "data": {
      "text/plain": [
       "['X_Val', 'X_Train', 'X_Test', 'y_val', 'y_train', 'y_test']"
      ]
     },
     "execution_count": 6,
     "metadata": {},
     "output_type": "execute_result"
    }
   ],
   "source": [
    "mydat.keys()"
   ]
  },
  {
   "cell_type": "code",
   "execution_count": 9,
   "metadata": {
    "collapsed": false
   },
   "outputs": [],
   "source": [
    "train_data = mydat['X_Train']"
   ]
  },
  {
   "cell_type": "code",
   "execution_count": 25,
   "metadata": {
    "collapsed": false
   },
   "outputs": [
    {
     "data": {
      "text/html": [
       "<div>\n",
       "<table border=\"1\" class=\"dataframe\">\n",
       "  <thead>\n",
       "    <tr style=\"text-align: right;\">\n",
       "      <th></th>\n",
       "      <th>categories</th>\n",
       "      <th>name</th>\n",
       "      <th>latitude</th>\n",
       "      <th>longitude</th>\n",
       "      <th>stars</th>\n",
       "    </tr>\n",
       "  </thead>\n",
       "  <tbody>\n",
       "    <tr>\n",
       "      <th>0</th>\n",
       "      <td>[Food, Coffee &amp; Tea, Delicatessen, Delis, Rest...</td>\n",
       "      <td>Glass and Thompson</td>\n",
       "      <td>55.956000</td>\n",
       "      <td>-3.198600</td>\n",
       "      <td>4.0</td>\n",
       "    </tr>\n",
       "    <tr>\n",
       "      <th>1</th>\n",
       "      <td>[Arts &amp; Crafts, Shopping, Jewelry]</td>\n",
       "      <td>Historic Connections</td>\n",
       "      <td>55.951202</td>\n",
       "      <td>-3.180689</td>\n",
       "      <td>2.5</td>\n",
       "    </tr>\n",
       "    <tr>\n",
       "      <th>2</th>\n",
       "      <td>[Restaurants, Italian]</td>\n",
       "      <td>La Dolce Vita</td>\n",
       "      <td>55.972881</td>\n",
       "      <td>-3.175572</td>\n",
       "      <td>3.5</td>\n",
       "    </tr>\n",
       "    <tr>\n",
       "      <th>3</th>\n",
       "      <td>[Chinese, Restaurants]</td>\n",
       "      <td>China Star</td>\n",
       "      <td>55.946617</td>\n",
       "      <td>-3.215545</td>\n",
       "      <td>3.0</td>\n",
       "    </tr>\n",
       "    <tr>\n",
       "      <th>4</th>\n",
       "      <td>[Bakeries, Food]</td>\n",
       "      <td>Morrison's Bakery</td>\n",
       "      <td>55.945982</td>\n",
       "      <td>-3.212530</td>\n",
       "      <td>3.5</td>\n",
       "    </tr>\n",
       "  </tbody>\n",
       "</table>\n",
       "</div>"
      ],
      "text/plain": [
       "                                          categories                  name  \\\n",
       "0  [Food, Coffee & Tea, Delicatessen, Delis, Rest...    Glass and Thompson   \n",
       "1                 [Arts & Crafts, Shopping, Jewelry]  Historic Connections   \n",
       "2                             [Restaurants, Italian]         La Dolce Vita   \n",
       "3                             [Chinese, Restaurants]            China Star   \n",
       "4                                   [Bakeries, Food]     Morrison's Bakery   \n",
       "\n",
       "    latitude  longitude  stars  \n",
       "0  55.956000  -3.198600    4.0  \n",
       "1  55.951202  -3.180689    2.5  \n",
       "2  55.972881  -3.175572    3.5  \n",
       "3  55.946617  -3.215545    3.0  \n",
       "4  55.945982  -3.212530    3.5  "
      ]
     },
     "execution_count": 25,
     "metadata": {},
     "output_type": "execute_result"
    }
   ],
   "source": [
    "train_data[['categories' , 'name' , 'latitude' , 'longitude' , 'stars']].head()"
   ]
  },
  {
   "cell_type": "code",
   "execution_count": 28,
   "metadata": {
    "collapsed": false
   },
   "outputs": [],
   "source": [
    "#train_data.head()"
   ]
  },
  {
   "cell_type": "code",
   "execution_count": 29,
   "metadata": {
    "collapsed": false
   },
   "outputs": [],
   "source": [
    "#train_data['neighborhoods'].unique"
   ]
  },
  {
   "cell_type": "code",
   "execution_count": null,
   "metadata": {
    "collapsed": true
   },
   "outputs": [],
   "source": []
  }
 ],
 "metadata": {
  "anaconda-cloud": {},
  "kernelspec": {
   "display_name": "Python [conda env:mlp]",
   "language": "python",
   "name": "conda-env-mlp-py"
  },
  "language_info": {
   "codemirror_mode": {
    "name": "ipython",
    "version": 2
   },
   "file_extension": ".py",
   "mimetype": "text/x-python",
   "name": "python",
   "nbconvert_exporter": "python",
   "pygments_lexer": "ipython2",
   "version": "2.7.12"
  }
 },
 "nbformat": 4,
 "nbformat_minor": 1
}
