{
 "cells": [
  {
   "cell_type": "code",
   "execution_count": 1,
   "metadata": {
    "collapsed": true
   },
   "outputs": [],
   "source": [
    "import matplotlib.pyplot as plt\n",
    "%matplotlib inline\n",
    "import pickle\n",
    "import pandas as pd\n",
    "import os \n",
    "import inspect\n",
    "\n",
    "# Put all datasets in 'path-to-repo/data' directory please\n",
    "path = os.path.dirname(os.path.abspath(inspect.getfile(inspect.currentframe()))) # script directory\n",
    "path += '/scripts/'\n",
    "\n",
    "os.chdir(path)\n",
    "from get_graph import *"
   ]
  },
  {
   "cell_type": "code",
   "execution_count": 2,
   "metadata": {
    "collapsed": true
   },
   "outputs": [],
   "source": [
    "import os\n",
    "\n",
    "os.chdir('/afs/inf.ed.ac.uk/user/s13/s1341139/uni.repos/stn/data')"
   ]
  },
  {
   "cell_type": "code",
   "execution_count": 3,
   "metadata": {
    "collapsed": false
   },
   "outputs": [],
   "source": [
    "file2 = open(r'clusterdata.pkl', 'rb')\n",
    "clusterdata = pickle.load(file2)\n",
    "file2.close()"
   ]
  },
  {
   "cell_type": "code",
   "execution_count": 4,
   "metadata": {
    "collapsed": true
   },
   "outputs": [],
   "source": [
    "file2 = open(r'mydata.pkl', 'rb')\n",
    "mydata = pickle.load(file2)\n",
    "file2.close()"
   ]
  },
  {
   "cell_type": "code",
   "execution_count": 5,
   "metadata": {
    "collapsed": true
   },
   "outputs": [],
   "source": [
    "file2 = open(r'clusters.pkl', 'rb')\n",
    "clusters = pickle.load(file2)\n",
    "file2.close()"
   ]
  },
  {
   "cell_type": "code",
   "execution_count": 6,
   "metadata": {
    "collapsed": false
   },
   "outputs": [],
   "source": [
    "edindata = mydata['X_Train']"
   ]
  },
  {
   "cell_type": "code",
   "execution_count": 7,
   "metadata": {
    "collapsed": false
   },
   "outputs": [],
   "source": [
    "a = clusterdata[clusterdata.index == 'mV2qIJvhYuHTI0_to25nrQ']['total'].values[0]"
   ]
  },
  {
   "cell_type": "code",
   "execution_count": 8,
   "metadata": {
    "collapsed": false
   },
   "outputs": [
    {
     "data": {
      "text/plain": [
       "0"
      ]
     },
     "execution_count": 8,
     "metadata": {},
     "output_type": "execute_result"
    }
   ],
   "source": [
    "a"
   ]
  },
  {
   "cell_type": "code",
   "execution_count": 9,
   "metadata": {
    "collapsed": false
   },
   "outputs": [],
   "source": [
    "#clusterdata['mV2qIJvhYuHTI0_to25nrQ']"
   ]
  },
  {
   "cell_type": "code",
   "execution_count": 10,
   "metadata": {
    "collapsed": false
   },
   "outputs": [],
   "source": [
    "newcluster = dict()\n",
    "l1 = []\n",
    "for key in clusters.keys():\n",
    "    l1=[]\n",
    "    for node in clusters[key]:\n",
    "        l1.append(node[0])\n",
    "    newcluster[key[0]] = l1"
   ]
  },
  {
   "cell_type": "code",
   "execution_count": null,
   "metadata": {
    "collapsed": false
   },
   "outputs": [],
   "source": [
    "def findcentre(row):\n",
    "    for key in newcluster.keys():\n",
    "        for node in newcluster[key]:\n",
    "            if row['business_id'] == node:\n",
    "                return key\n",
    "    \n",
    "    return 'NA'"
   ]
  },
  {
   "cell_type": "code",
   "execution_count": null,
   "metadata": {
    "collapsed": false
   },
   "outputs": [],
   "source": [
    "edindata['centre'] = edindata.apply(lambda row:findcentre(row) ,axis=1)"
   ]
  },
  {
   "cell_type": "code",
   "execution_count": null,
   "metadata": {
    "collapsed": false
   },
   "outputs": [],
   "source": [
    "def inthecol(row, col):\n",
    "    c =  row['centre']\n",
    "    try:\n",
    "        ra = clusterdata[clusterdata.index == c][col].values[0]\n",
    "        return ra\n",
    "    except: \n",
    "        return 0"
   ]
  },
  {
   "cell_type": "code",
   "execution_count": null,
   "metadata": {
    "collapsed": false
   },
   "outputs": [],
   "source": [
    "edindata['morningci'] = edindata.apply(lambda row:inthecol(row,'morningci') ,axis=1)\n",
    "edindata['noonci'] = edindata.apply(lambda row:inthecol(row,'noonci') ,axis=1)\n",
    "edindata['nightci'] = edindata.apply(lambda row:inthecol(row,'nightci') ,axis=1)\n",
    "edindata['latenightci'] = edindata.apply(lambda row:inthecol(row,'latenightci') ,axis=1)\n",
    "edindata['weekci'] = edindata.apply(lambda row:inthecol(row,'weekci') ,axis=1)\n",
    "edindata['weekendci'] = edindata.apply(lambda row:inthecol(row,'weekendci') ,axis=1)"
   ]
  },
  {
   "cell_type": "code",
   "execution_count": null,
   "metadata": {
    "collapsed": true
   },
   "outputs": [],
   "source": [
    "edindata['total'] = edindata['morningci']+edindata['noonci']+edindata['nightci']+edindata['latenightci']+edindata['weekci']+edindata['weekendci']"
   ]
  },
  {
   "cell_type": "code",
   "execution_count": null,
   "metadata": {
    "collapsed": false
   },
   "outputs": [],
   "source": [
    "edindata['morningci'] = edindata['morningci']/ edindata['total']\n",
    "edindata['noonci'] = edindata['noonci']/ edindata['total']\n",
    "edindata['nightci'] = edindata['nightci']/ edindata['total']\n",
    "edindata['latenightci'] = edindata['latenightci']/ edindata['total']\n",
    "edindata['weekci'] = edindata['weekci']/ edindata['total']\n",
    "edindata['weekendci'] = edindata['weekendci']/ edindata['total']"
   ]
  },
  {
   "cell_type": "code",
   "execution_count": null,
   "metadata": {
    "collapsed": false
   },
   "outputs": [],
   "source": [
    "usecolumns = ['business_id' , 'attributes' , 'categories' , 'review_count', 'stars' ,'centre','morningci' , 'noonci', 'nightci','latenightci','weekci', 'weekendci']"
   ]
  },
  {
   "cell_type": "code",
   "execution_count": null,
   "metadata": {
    "collapsed": false
   },
   "outputs": [],
   "source": [
    "usedindata = edindata[usecolumns]"
   ]
  },
  {
   "cell_type": "code",
   "execution_count": null,
   "metadata": {
    "collapsed": false,
    "scrolled": true
   },
   "outputs": [],
   "source": [
    "usedindata.head()"
   ]
  },
  {
   "cell_type": "code",
   "execution_count": null,
   "metadata": {
    "collapsed": false
   },
   "outputs": [],
   "source": [
    "type(usedindata)"
   ]
  },
  {
   "cell_type": "code",
   "execution_count": null,
   "metadata": {
    "collapsed": false
   },
   "outputs": [],
   "source": [
    "rows = usedindata.values.tolist()"
   ]
  },
  {
   "cell_type": "code",
   "execution_count": null,
   "metadata": {
    "collapsed": true
   },
   "outputs": [],
   "source": [
    "import pickle\n",
    "\n",
    "file1 = open(r'useedindata.pkl', 'wb')\n",
    "pickle.dump(usedindata, file1)\n",
    "file1.close()"
   ]
  },
  {
   "cell_type": "code",
   "execution_count": null,
   "metadata": {
    "collapsed": false
   },
   "outputs": [],
   "source": [
    "import math\n",
    "import random\n",
    "def get_distance(row1, row2):\n",
    "\n",
    "    return random.randint(0, 50)"
   ]
  },
  {
   "cell_type": "code",
   "execution_count": null,
   "metadata": {
    "collapsed": true
   },
   "outputs": [],
   "source": [
    "from __future__ import division\n",
    "def rate_instance_cluster(train_rows, instance_row, cluster_tuple, k=3):\n",
    "    \n",
    "    distances = []\n",
    "    total = 0.0\n",
    "    \n",
    "    cluster_name, _, _ = cluster_tuple\n",
    "    \n",
    "    instance_row_cp = list(instance_row)\n",
    "    instance_row_cp[5] = cluster_name\n",
    "    \n",
    "    for row in rows:\n",
    "        distance = get_distance(instance_row_cp, row)\n",
    "        distances.append((distance, row))\n",
    "        \n",
    "    distances.sort()\n",
    "    \n",
    "    for _, row in distances[:k]:\n",
    "        \n",
    "        total += float(row[4])\n",
    "        \n",
    "    return total / k"
   ]
  },
  {
   "cell_type": "code",
   "execution_count": null,
   "metadata": {
    "collapsed": false
   },
   "outputs": [],
   "source": [
    "def classify_instance(clusters, train_rows, instance_row, k=3):\n",
    "    \n",
    "    ratings = []\n",
    "    counter = 0\n",
    "    for cluster in clusters:\n",
    "        if counter < 5:\n",
    "            pass\n",
    "            #print cluster\n",
    "        rating = rate_instance_cluster(train_rows, instance_row, cluster, k)\n",
    "        ratings.append((rating, cluster))\n",
    "        counter += 1\n",
    "        \n",
    "    \n",
    "    ratings.sort(reverse=True)\n",
    "    \n",
    "    return ratings[0][1][0]\n",
    "    "
   ]
  },
  {
   "cell_type": "code",
   "execution_count": null,
   "metadata": {
    "collapsed": false
   },
   "outputs": [],
   "source": [
    "len(rows)"
   ]
  },
  {
   "cell_type": "code",
   "execution_count": null,
   "metadata": {
    "collapsed": false
   },
   "outputs": [],
   "source": [
    "1680 - 168"
   ]
  },
  {
   "cell_type": "code",
   "execution_count": null,
   "metadata": {
    "collapsed": false,
    "scrolled": false
   },
   "outputs": [],
   "source": [
    "train_rows = rows[:1512]\n",
    "test_rows = rows[1512:]\n",
    "\n",
    "i = 0\n",
    "for test_row in test_rows:\n",
    "    print classify_instance(clusters.keys(), train_rows, test_row, k=5), test_row[5]"
   ]
  },
  {
   "cell_type": "code",
   "execution_count": null,
   "metadata": {
    "collapsed": false
   },
   "outputs": [],
   "source": [
    "clusters.keys()"
   ]
  },
  {
   "cell_type": "code",
   "execution_count": null,
   "metadata": {
    "collapsed": true
   },
   "outputs": [],
   "source": []
  }
 ],
 "metadata": {
  "anaconda-cloud": {},
  "kernelspec": {
   "display_name": "Python [conda env:mlp]",
   "language": "python",
   "name": "conda-env-mlp-py"
  },
  "language_info": {
   "codemirror_mode": {
    "name": "ipython",
    "version": 2
   },
   "file_extension": ".py",
   "mimetype": "text/x-python",
   "name": "python",
   "nbconvert_exporter": "python",
   "pygments_lexer": "ipython2",
   "version": "2.7.12"
  }
 },
 "nbformat": 4,
 "nbformat_minor": 1
}
