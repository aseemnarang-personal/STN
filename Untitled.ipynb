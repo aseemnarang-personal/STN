{
 "cells": [
  {
   "cell_type": "code",
   "execution_count": 4,
   "metadata": {
    "collapsed": true
   },
   "outputs": [],
   "source": [
    "import matplotlib.pyplot as plt\n",
    "%matplotlib inline\n",
    "import pickle\n",
    "import pandas as pd\n",
    "import os \n",
    "import inspect\n",
    "\n",
    "# Put all datasets in 'path-to-repo/data' directory please\n",
    "path = os.path.dirname(os.path.abspath(inspect.getfile(inspect.currentframe()))) # script directory\n",
    "path += '/scripts/'\n",
    "\n",
    "os.chdir(path)\n",
    "from get_graph import *"
   ]
  },
  {
   "cell_type": "code",
   "execution_count": 142,
   "metadata": {
    "collapsed": false
   },
   "outputs": [],
   "source": [
    "file2 = open(r'clusterdata.pkl', 'rb')\n",
    "clusterdata = pickle.load(file2)\n",
    "file2.close()"
   ]
  },
  {
   "cell_type": "code",
   "execution_count": 143,
   "metadata": {
    "collapsed": true
   },
   "outputs": [],
   "source": [
    "file2 = open(r'mydata.pkl', 'rb')\n",
    "mydata = pickle.load(file2)\n",
    "file2.close()"
   ]
  },
  {
   "cell_type": "code",
   "execution_count": 144,
   "metadata": {
    "collapsed": true
   },
   "outputs": [],
   "source": [
    "file2 = open(r'clusters.pkl', 'rb')\n",
    "clusters = pickle.load(file2)\n",
    "file2.close()"
   ]
  },
  {
   "cell_type": "code",
   "execution_count": 145,
   "metadata": {
    "collapsed": false
   },
   "outputs": [],
   "source": [
    "edindata = mydata['X_Train']"
   ]
  },
  {
   "cell_type": "code",
   "execution_count": 146,
   "metadata": {
    "collapsed": false
   },
   "outputs": [],
   "source": [
    "a = clusterdata[clusterdata.index == 'mV2qIJvhYuHTI0_to25nrQ']['total'].values[0]"
   ]
  },
  {
   "cell_type": "code",
   "execution_count": 147,
   "metadata": {
    "collapsed": false
   },
   "outputs": [
    {
     "data": {
      "text/plain": [
       "492"
      ]
     },
     "execution_count": 147,
     "metadata": {},
     "output_type": "execute_result"
    }
   ],
   "source": [
    "a"
   ]
  },
  {
   "cell_type": "code",
   "execution_count": 148,
   "metadata": {
    "collapsed": false
   },
   "outputs": [],
   "source": [
    "#clusterdata['mV2qIJvhYuHTI0_to25nrQ']"
   ]
  },
  {
   "cell_type": "code",
   "execution_count": 149,
   "metadata": {
    "collapsed": false
   },
   "outputs": [],
   "source": [
    "newcluster = dict()\n",
    "l1 = []\n",
    "for key in clusters.keys():\n",
    "    l1=[]\n",
    "    for node in clusters[key]:\n",
    "        l1.append(node[0])\n",
    "    newcluster[key[0]] = l1"
   ]
  },
  {
   "cell_type": "code",
   "execution_count": 150,
   "metadata": {
    "collapsed": false
   },
   "outputs": [],
   "source": [
    "def findcentre(row):\n",
    "    for key in newcluster.keys():\n",
    "        for node in newcluster[key]:\n",
    "            if row['business_id'] == node:\n",
    "                return key\n",
    "    \n",
    "    return 'NA'"
   ]
  },
  {
   "cell_type": "code",
   "execution_count": 151,
   "metadata": {
    "collapsed": false
   },
   "outputs": [],
   "source": [
    "edindata['centre'] = edindata.apply(lambda row:findcentre(row) ,axis=1)"
   ]
  },
  {
   "cell_type": "code",
   "execution_count": 152,
   "metadata": {
    "collapsed": false
   },
   "outputs": [],
   "source": [
    "def inthecol(row, col):\n",
    "    c =  row['centre']\n",
    "    try:\n",
    "        ra = clusterdata[clusterdata.index == c][col].values[0]\n",
    "        return ra\n",
    "    except: \n",
    "        return 0"
   ]
  },
  {
   "cell_type": "code",
   "execution_count": 158,
   "metadata": {
    "collapsed": false
   },
   "outputs": [],
   "source": [
    "edindata['morningci'] = edindata.apply(lambda row:inthecol(row,'morningci') ,axis=1)\n",
    "edindata['noonci'] = edindata.apply(lambda row:inthecol(row,'noonci') ,axis=1)\n",
    "edindata['nightci'] = edindata.apply(lambda row:inthecol(row,'nightci') ,axis=1)\n",
    "edindata['latenightci'] = edindata.apply(lambda row:inthecol(row,'latenightci') ,axis=1)\n",
    "edindata['weekci'] = edindata.apply(lambda row:inthecol(row,'weekci') ,axis=1)\n",
    "edindata['weekendci'] = edindata.apply(lambda row:inthecol(row,'weekendci') ,axis=1)"
   ]
  },
  {
   "cell_type": "code",
   "execution_count": 159,
   "metadata": {
    "collapsed": true
   },
   "outputs": [],
   "source": [
    "edindata['total'] = edindata['morningci']+edindata['noonci']+edindata['nightci']+edindata['latenightci']+edindata['weekci']+edindata['weekendci']"
   ]
  },
  {
   "cell_type": "code",
   "execution_count": 160,
   "metadata": {
    "collapsed": false
   },
   "outputs": [],
   "source": [
    "edindata['morningci'] = edindata['morningci']/ edindata['total']\n",
    "edindata['noonci'] = edindata['noonci']/ edindata['total']\n",
    "edindata['nightci'] = edindata['nightci']/ edindata['total']\n",
    "edindata['latenightci'] = edindata['latenightci']/ edindata['total']\n",
    "edindata['weekci'] = edindata['weekci']/ edindata['total']\n",
    "edindata['weekendci'] = edindata['weekendci']/ edindata['total']"
   ]
  },
  {
   "cell_type": "code",
   "execution_count": 161,
   "metadata": {
    "collapsed": false
   },
   "outputs": [],
   "source": [
    "usecolumns = ['business_id' , 'attributes' , 'categories' , 'review_count', 'stars' ,'centre','morningci' , 'noonci', 'nightci','latenightci','weekci', 'weekendci']"
   ]
  },
  {
   "cell_type": "code",
   "execution_count": 162,
   "metadata": {
    "collapsed": false
   },
   "outputs": [],
   "source": [
    "usedindata = edindata[usecolumns]"
   ]
  },
  {
   "cell_type": "code",
   "execution_count": 187,
   "metadata": {
    "collapsed": false
   },
   "outputs": [
    {
     "data": {
      "text/html": [
       "<div>\n",
       "<table border=\"1\" class=\"dataframe\">\n",
       "  <thead>\n",
       "    <tr style=\"text-align: right;\">\n",
       "      <th></th>\n",
       "      <th>business_id</th>\n",
       "      <th>attributes</th>\n",
       "      <th>categories</th>\n",
       "      <th>review_count</th>\n",
       "      <th>stars</th>\n",
       "      <th>centre</th>\n",
       "      <th>morningci</th>\n",
       "      <th>noonci</th>\n",
       "      <th>nightci</th>\n",
       "      <th>latenightci</th>\n",
       "      <th>weekci</th>\n",
       "      <th>weekendci</th>\n",
       "    </tr>\n",
       "  </thead>\n",
       "  <tbody>\n",
       "    <tr>\n",
       "      <th>0</th>\n",
       "      <td>iXnB5jI6x3ChN6HCSJ5-Aw</td>\n",
       "      <td>{u'Take-out': True, u'Good For': {u'dessert': ...</td>\n",
       "      <td>[Food, Coffee &amp; Tea, Delicatessen, Delis, Rest...</td>\n",
       "      <td>5</td>\n",
       "      <td>4.0</td>\n",
       "      <td>ZNVicGnKfP-52Kxv8jOpiQ</td>\n",
       "      <td>0.254571</td>\n",
       "      <td>0.089354</td>\n",
       "      <td>0.004423</td>\n",
       "      <td>0.082940</td>\n",
       "      <td>0.157844</td>\n",
       "      <td>0.410867</td>\n",
       "    </tr>\n",
       "    <tr>\n",
       "      <th>1</th>\n",
       "      <td>yLEOt84SO7Cj0tZgIfTmig</td>\n",
       "      <td>{u'By Appointment Only': False, u'Accepts Cred...</td>\n",
       "      <td>[Arts &amp; Crafts, Shopping, Jewelry]</td>\n",
       "      <td>4</td>\n",
       "      <td>2.5</td>\n",
       "      <td>guIvTBHp1oxs76q44qQ9Pg</td>\n",
       "      <td>0.267874</td>\n",
       "      <td>0.072725</td>\n",
       "      <td>0.005150</td>\n",
       "      <td>0.079243</td>\n",
       "      <td>0.168417</td>\n",
       "      <td>0.406592</td>\n",
       "    </tr>\n",
       "    <tr>\n",
       "      <th>2</th>\n",
       "      <td>4iaAezy5-l6CpxZa51mLtA</td>\n",
       "      <td>{u'Take-out': True, u'Delivery': False, u'Take...</td>\n",
       "      <td>[Restaurants, Italian]</td>\n",
       "      <td>3</td>\n",
       "      <td>3.5</td>\n",
       "      <td>jKtlmVwJiILyVUIW87E1hw</td>\n",
       "      <td>0.246196</td>\n",
       "      <td>0.090614</td>\n",
       "      <td>0.002223</td>\n",
       "      <td>0.087365</td>\n",
       "      <td>0.159343</td>\n",
       "      <td>0.414259</td>\n",
       "    </tr>\n",
       "    <tr>\n",
       "      <th>3</th>\n",
       "      <td>HVuATnPVpLjUUTjHuYkzTA</td>\n",
       "      <td>{u'Take-out': True, u'Wi-Fi': u'free', u'Good ...</td>\n",
       "      <td>[Chinese, Restaurants]</td>\n",
       "      <td>5</td>\n",
       "      <td>3.0</td>\n",
       "      <td>UDFzpV0hr2rFw9fVl9npCw</td>\n",
       "      <td>0.278512</td>\n",
       "      <td>0.080044</td>\n",
       "      <td>0.002679</td>\n",
       "      <td>0.073213</td>\n",
       "      <td>0.167409</td>\n",
       "      <td>0.398143</td>\n",
       "    </tr>\n",
       "    <tr>\n",
       "      <th>4</th>\n",
       "      <td>QCJc7tlFCl9b15X17k-zxQ</td>\n",
       "      <td>{u'Price Range': 1}</td>\n",
       "      <td>[Bakeries, Food]</td>\n",
       "      <td>3</td>\n",
       "      <td>3.5</td>\n",
       "      <td>UDFzpV0hr2rFw9fVl9npCw</td>\n",
       "      <td>0.278512</td>\n",
       "      <td>0.080044</td>\n",
       "      <td>0.002679</td>\n",
       "      <td>0.073213</td>\n",
       "      <td>0.167409</td>\n",
       "      <td>0.398143</td>\n",
       "    </tr>\n",
       "  </tbody>\n",
       "</table>\n",
       "</div>"
      ],
      "text/plain": [
       "              business_id                                         attributes  \\\n",
       "0  iXnB5jI6x3ChN6HCSJ5-Aw  {u'Take-out': True, u'Good For': {u'dessert': ...   \n",
       "1  yLEOt84SO7Cj0tZgIfTmig  {u'By Appointment Only': False, u'Accepts Cred...   \n",
       "2  4iaAezy5-l6CpxZa51mLtA  {u'Take-out': True, u'Delivery': False, u'Take...   \n",
       "3  HVuATnPVpLjUUTjHuYkzTA  {u'Take-out': True, u'Wi-Fi': u'free', u'Good ...   \n",
       "4  QCJc7tlFCl9b15X17k-zxQ                                {u'Price Range': 1}   \n",
       "\n",
       "                                          categories  review_count  stars  \\\n",
       "0  [Food, Coffee & Tea, Delicatessen, Delis, Rest...             5    4.0   \n",
       "1                 [Arts & Crafts, Shopping, Jewelry]             4    2.5   \n",
       "2                             [Restaurants, Italian]             3    3.5   \n",
       "3                             [Chinese, Restaurants]             5    3.0   \n",
       "4                                   [Bakeries, Food]             3    3.5   \n",
       "\n",
       "                   centre  morningci    noonci   nightci  latenightci  \\\n",
       "0  ZNVicGnKfP-52Kxv8jOpiQ   0.254571  0.089354  0.004423     0.082940   \n",
       "1  guIvTBHp1oxs76q44qQ9Pg   0.267874  0.072725  0.005150     0.079243   \n",
       "2  jKtlmVwJiILyVUIW87E1hw   0.246196  0.090614  0.002223     0.087365   \n",
       "3  UDFzpV0hr2rFw9fVl9npCw   0.278512  0.080044  0.002679     0.073213   \n",
       "4  UDFzpV0hr2rFw9fVl9npCw   0.278512  0.080044  0.002679     0.073213   \n",
       "\n",
       "     weekci  weekendci  \n",
       "0  0.157844   0.410867  \n",
       "1  0.168417   0.406592  \n",
       "2  0.159343   0.414259  \n",
       "3  0.167409   0.398143  \n",
       "4  0.167409   0.398143  "
      ]
     },
     "execution_count": 187,
     "metadata": {},
     "output_type": "execute_result"
    }
   ],
   "source": [
    "usedindata.head()"
   ]
  },
  {
   "cell_type": "code",
   "execution_count": 194,
   "metadata": {
    "collapsed": false
   },
   "outputs": [
    {
     "data": {
      "text/plain": [
       "{u'Accepts Credit Cards': True,\n",
       " u'Good For': {u'breakfast': False,\n",
       "  u'brunch': False,\n",
       "  u'dessert': False,\n",
       "  u'dinner': False,\n",
       "  u'latenight': False,\n",
       "  u'lunch': False},\n",
       " u'Good For Groups': True,\n",
       " u'Good for Kids': True,\n",
       " u'Outdoor Seating': True,\n",
       " u'Parking': {u'garage': False,\n",
       "  u'lot': False,\n",
       "  u'street': True,\n",
       "  u'valet': False,\n",
       "  u'validated': False},\n",
       " u'Price Range': 3,\n",
       " u'Take-out': True}"
      ]
     },
     "execution_count": 194,
     "metadata": {},
     "output_type": "execute_result"
    }
   ],
   "source": [
    "list(usedindata['attributes'])[0]"
   ]
  },
  {
   "cell_type": "code",
   "execution_count": 175,
   "metadata": {
    "collapsed": false
   },
   "outputs": [
    {
     "data": {
      "text/plain": [
       "pandas.core.frame.DataFrame"
      ]
     },
     "execution_count": 175,
     "metadata": {},
     "output_type": "execute_result"
    }
   ],
   "source": [
    "type(usedindata)"
   ]
  },
  {
   "cell_type": "code",
   "execution_count": 178,
   "metadata": {
    "collapsed": true
   },
   "outputs": [],
   "source": [
    "usedindata.to_csv('data.csv', sep=';')"
   ]
  },
  {
   "cell_type": "code",
   "execution_count": 165,
   "metadata": {
    "collapsed": true
   },
   "outputs": [],
   "source": [
    "import pickle\n",
    "\n",
    "file1 = open(r'useedindata.pkl', 'wb')\n",
    "pickle.dump(usedindata, file1)\n",
    "file1.close()"
   ]
  },
  {
   "cell_type": "code",
   "execution_count": null,
   "metadata": {
    "collapsed": true
   },
   "outputs": [],
   "source": []
  }
 ],
 "metadata": {
  "anaconda-cloud": {},
  "kernelspec": {
   "display_name": "Python [conda env:mlp]",
   "language": "python",
   "name": "conda-env-mlp-py"
  },
  "language_info": {
   "codemirror_mode": {
    "name": "ipython",
    "version": 2
   },
   "file_extension": ".py",
   "mimetype": "text/x-python",
   "name": "python",
   "nbconvert_exporter": "python",
   "pygments_lexer": "ipython2",
   "version": "2.7.12"
  }
 },
 "nbformat": 4,
 "nbformat_minor": 1
}
