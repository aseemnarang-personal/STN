{
 "cells": [
  {
   "cell_type": "code",
   "execution_count": 1,
   "metadata": {
    "collapsed": false
   },
   "outputs": [
    {
     "name": "stderr",
     "output_type": "stream",
     "text": [
      "/afs/inf.ed.ac.uk/user/s13/s1338673/miniconda2/envs/mlp/lib/python2.7/site-packages/matplotlib/font_manager.py:273: UserWarning: Matplotlib is building the font cache using fc-list. This may take a moment.\n",
      "  warnings.warn('Matplotlib is building the font cache using fc-list. This may take a moment.')\n"
     ]
    },
    {
     "name": "stdout",
     "output_type": "stream",
     "text": [
      "3360\n"
     ]
    }
   ],
   "source": [
    "import matplotlib.pyplot as plt\n",
    "%matplotlib inline\n",
    "\n",
    "import pandas as pd\n",
    "import os \n",
    "import inspect\n",
    "\n",
    "# Put all datasets in 'path-to-repo/data' directory please\n",
    "path = os.path.dirname(os.path.abspath(inspect.getfile(inspect.currentframe()))) # script directory\n",
    "path += '/scripts/'\n",
    "\n",
    "os.chdir(path)\n",
    "from get_graph import *\n",
    "data = load_data()\n",
    "G = get_graph(data)"
   ]
  },
  {
   "cell_type": "code",
   "execution_count": 2,
   "metadata": {
    "collapsed": false
   },
   "outputs": [],
   "source": [
    "def isnotzero(row):\n",
    "    return row[1] != 0 \n",
    "\n"
   ]
  },
  {
   "cell_type": "code",
   "execution_count": 3,
   "metadata": {
    "collapsed": false
   },
   "outputs": [
    {
     "data": {
      "text/plain": [
       "(u'TI5mg9fDWLjt8G7Wo42U6A', 55.9508754, -3.1914633)"
      ]
     },
     "execution_count": 3,
     "metadata": {},
     "output_type": "execute_result"
    }
   ],
   "source": [
    "fulldeglist= []\n",
    "for node in G.nodes():\n",
    "    fulldeglist.append((G.degree(node),node))\n",
    "fulldeglist.sort(reverse=True)\n",
    "\n",
    "deglist = [x[1] for x in fulldeglist if x[0]!=0]\n",
    "\n",
    "deglist[1]"
   ]
  },
  {
   "cell_type": "code",
   "execution_count": null,
   "metadata": {
    "collapsed": false
   },
   "outputs": [],
   "source": []
  },
  {
   "cell_type": "code",
   "execution_count": 4,
   "metadata": {
    "collapsed": false
   },
   "outputs": [],
   "source": [
    "import math\n",
    "def calcdistance(b1 , b2):\n",
    "    #print(b1[1])\n",
    "    lat1 = math.radians(float(b1[1]))\n",
    "    lon1 = math.radians(float(b1[2]))\n",
    "    lat2 = math.radians(float(b2[1]))\n",
    "    lon2 = math.radians(float(b2[2]))\n",
    "    dlon = lon2 - lon1\n",
    "    dlat = lat2 - lat1\n",
    "    R = 6373.0\n",
    "    a = sin(dlat/ 2)**2 + cos(lat1) * cos(lat2) * sin(dlon / 2)**2\n",
    "    c = 2 * atan2(sqrt(a), sqrt(1 - a))\n",
    "\n",
    "    distance = R * c\n",
    "    return distance\n",
    "\n",
    "def checkifnotneighbour(n1 , n2):\n",
    "    for e,a in G.edges(n1):\n",
    "        if n2 == a:\n",
    "            return False\n",
    "        for e,b in G.edges(a):\n",
    "            if n2 ==b:\n",
    "                return False\n",
    "    return True"
   ]
  },
  {
   "cell_type": "code",
   "execution_count": 5,
   "metadata": {
    "collapsed": false
   },
   "outputs": [],
   "source": [
    "newgraphlst = []\n",
    "threshold = 0.6\n",
    "j=0\n",
    "\n",
    "for thing in deglist:\n",
    "    isvalid = True\n",
    "    #print(j)\n",
    "    for node in newgraphlst:\n",
    "        isvalid = isvalid and calcdistance(thing , node) > threshold\n",
    "    if isvalid:\n",
    "        newgraphlst.append(thing)\n",
    "        j+=1\n",
    "    #if j == cap:\n",
    "    #    break\n",
    "    \n",
    "        "
   ]
  },
  {
   "cell_type": "code",
   "execution_count": 6,
   "metadata": {
    "collapsed": false
   },
   "outputs": [],
   "source": [
    "j=0\n",
    "newgraphlst2 = []\n",
    "for thing in deglist:\n",
    "    #if (j%10==0):\n",
    "    #    print(j)\n",
    "    isvalid = True\n",
    "    for node in newgraphlst2:\n",
    "        if not isvalid:\n",
    "            break\n",
    "        isvalid = isvalid and checkifnotneighbour(thing , node)\n",
    "    if isvalid:\n",
    "        newgraphlst2.append(thing)\n",
    "    j+=1"
   ]
  },
  {
   "cell_type": "code",
   "execution_count": 7,
   "metadata": {
    "collapsed": false
   },
   "outputs": [
    {
     "data": {
      "image/png": "[encoded data removed]",
      "text/plain": [
       "<matplotlib.figure.Figure at 0x7f0bf90cd450>"
      ]
     },
     "metadata": {},
     "output_type": "display_data"
    },
    {
     "data": {
      "image/png": "[encoded data removed]",
      "text/plain": [
       "<matplotlib.figure.Figure at 0x7f0bf8b862d0>"
      ]
     },
     "metadata": {},
     "output_type": "display_data"
    },
    {
     "data": {
      "text/plain": [
       "(55.9906704, 55.8924244, -3.09604, -3.3852536)"
      ]
     },
     "execution_count": 7,
     "metadata": {},
     "output_type": "execute_result"
    }
   ],
   "source": [
    "import numpy as np\n",
    "\n",
    "vislistx = []\n",
    "vislisty = []\n",
    "maxx = -100000\n",
    "minx = 10000000\n",
    "maxy = -1000000\n",
    "miny = 10000000\n",
    "for thing in newgraphlst:\n",
    "    vislistx.append(thing[1])\n",
    "    vislisty.append(thing[2])\n",
    "    minx = min(thing[1] , minx)\n",
    "    miny = min(thing[2] , miny)\n",
    "    maxx = max(thing[1] , maxx)\n",
    "    maxy = max(thing[2] , maxy)\n",
    "\n",
    "N = 50\n",
    "x = np.array(vislistx)\n",
    "y = np.array(vislisty)\n",
    "plt.scatter(y, x)\n",
    "plt.axis([miny,maxy,minx ,maxx])\n",
    "plt.show()\n",
    "\n",
    "import numpy as np\n",
    "\n",
    "vislistx = []\n",
    "vislisty = []\n",
    "maxx = -100000\n",
    "minx = 10000000\n",
    "maxy = -1000000\n",
    "miny = 10000000\n",
    "for thing in newgraphlst2:\n",
    "    vislistx.append(thing[1])\n",
    "    vislisty.append(thing[2])\n",
    "    minx = min(thing[1] , minx)\n",
    "    miny = min(thing[2] , miny)\n",
    "    maxx = max(thing[1] , maxx)\n",
    "    maxy = max(thing[2] , maxy)\n",
    "\n",
    "N = 50\n",
    "x = np.array(vislistx)\n",
    "y = np.array(vislisty)\n",
    "plt.scatter(y, x)\n",
    "plt.axis([miny,maxy,minx ,maxx])\n",
    "plt.show()\n",
    "maxx, minx, maxy, miny"
   ]
  },
  {
   "cell_type": "code",
   "execution_count": 8,
   "metadata": {
    "collapsed": false
   },
   "outputs": [],
   "source": [
    "for node in newgraphlst2:\n",
    "    deglist.remove(node)"
   ]
  },
  {
   "cell_type": "code",
   "execution_count": 9,
   "metadata": {
    "collapsed": false
   },
   "outputs": [
    {
     "data": {
      "text/plain": [
       "(u'guIvTBHp1oxs76q44qQ9Pg', 55.9508754, -3.1914633)"
      ]
     },
     "execution_count": 9,
     "metadata": {},
     "output_type": "execute_result"
    }
   ],
   "source": [
    "newgraphlst2[0]"
   ]
  },
  {
   "cell_type": "code",
   "execution_count": 39,
   "metadata": {
    "collapsed": false
   },
   "outputs": [],
   "source": [
    "clusters = dict()\n",
    "for key in newgraphlst2:\n",
    "    clusters[key] = []\n",
    "for node in deglist:\n",
    "    mindist = 10000\n",
    "    minkey = newgraphlst2[1]\n",
    "    for key in newgraphlst2:\n",
    "        d = calcdistance(node,key)\n",
    "        if d < mindist:\n",
    "            mindist = d\n",
    "            minkey = key\n",
    "    clusters[minkey].append(node)"
   ]
  },
  {
   "cell_type": "code",
   "execution_count": 40,
   "metadata": {
    "collapsed": false
   },
   "outputs": [],
   "source": [
    "import pickle\n",
    "\n",
    "file1 = open(r'clusters.pkl', 'wb')\n",
    "pickle.dump(clusters, file1)\n",
    "file1.close()"
   ]
  },
  {
   "cell_type": "code",
   "execution_count": 41,
   "metadata": {
    "collapsed": true
   },
   "outputs": [],
   "source": [
    "file2 = open(r'agguserdata.pkl', 'rb')\n",
    "agguserdata = pickle.load(file2)\n",
    "file2.close()"
   ]
  },
  {
   "cell_type": "code",
   "execution_count": 42,
   "metadata": {
    "collapsed": false
   },
   "outputs": [],
   "source": [
    "checkininfokey = list(agguserdata.index)\n",
    "checkininfodata =  agguserdata.to_dict(orient='records')\n",
    "checkininfo = zip(checkininfokey, checkininfodata)"
   ]
  },
  {
   "cell_type": "code",
   "execution_count": 43,
   "metadata": {
    "collapsed": false
   },
   "outputs": [],
   "source": []
  },
  {
   "cell_type": "code",
   "execution_count": 44,
   "metadata": {
    "collapsed": false
   },
   "outputs": [],
   "source": []
  },
  {
   "cell_type": "code",
   "execution_count": 130,
   "metadata": {
    "collapsed": true
   },
   "outputs": [],
   "source": [
    "cci = []\n",
    "bbi = []\n",
    "ddi = []\n",
    "clusterci = dict()\n",
    "localdict = dict()\n",
    "newkeys = ['total' , 'morningci' , 'noonci' , 'nightci' , 'latenightci' , 'weekci' , 'weekendci']\n",
    "\n",
    "    "
   ]
  },
  {
   "cell_type": "code",
   "execution_count": 213,
   "metadata": {
    "collapsed": false
   },
   "outputs": [],
   "source": [
    "clusterci = dict()\n",
    "localdict = dict()\n",
    "ddi=[]\n",
    "jj=0\n",
    "for key in clusters.keys():\n",
    "    for nk in newkeys:\n",
    "        localdict[nk] = 0\n",
    "    for node in clusters[key][:-1]:\n",
    "        if node[0] in checkininfokey: \n",
    "            i =  checkininfokey.index(node[0])\n",
    "            for nk in newkeys:\n",
    "                localdict[nk] += checkininfodata[i][nk]\n",
    "        else:\n",
    "            pass\n",
    "    #ddi[jj] = localdict\n",
    "    #ddi.append(localdict.copy())\n",
    "    #print(localdict)\n",
    "    #print('-----------------------')\n",
    "    #jj+=1\n",
    "    clusterci[key[0]] = localdict.copy()"
   ]
  },
  {
   "cell_type": "code",
   "execution_count": 216,
   "metadata": {
    "collapsed": false,
    "scrolled": false
   },
   "outputs": [],
   "source": [
    "#clusterci"
   ]
  },
  {
   "cell_type": "code",
   "execution_count": 217,
   "metadata": {
    "collapsed": false
   },
   "outputs": [],
   "source": [
    "ids = []\n",
    "frames= []\n",
    "for kid, d in clusterci.iteritems():\n",
    "    ids.append(kid)\n",
    "    mlist= []\n",
    "    for k in d.keys():\n",
    "        mlist.append(d[k])\n",
    "    frames.append(mlist)"
   ]
  },
  {
   "cell_type": "code",
   "execution_count": 218,
   "metadata": {
    "collapsed": false
   },
   "outputs": [],
   "source": [
    "clusterdata_df = pd.DataFrame(data=frames , index= ids , columns=newkeys)"
   ]
  },
  {
   "cell_type": "code",
   "execution_count": 219,
   "metadata": {
    "collapsed": true
   },
   "outputs": [],
   "source": [
    "import pickle\n",
    "\n",
    "file1 = open(r'clusterdata.pkl', 'wb')\n",
    "pickle.dump(clusterdata_df, file1)\n",
    "file1.close()"
   ]
  },
  {
   "cell_type": "code",
   "execution_count": null,
   "metadata": {
    "collapsed": true
   },
   "outputs": [],
   "source": [
    "def highlyconnected(G):\n",
    "    edges = len(G.edges())\n",
    "    nodes = len(G.nodes())\n",
    "    ratio = float(edges)/ float(nodes **2)\n",
    "    threshold = 0.2\n",
    "    print(ratio)\n",
    "    return ratio > threshold\n",
    "\n",
    "def sepgraphs(G):\n",
    "    edgestoremove = nx.minimum_edge_cut(G)\n",
    "    list(edgestoremove)\n",
    "    G.remove_edges_from(list(edgestoremove))\n",
    "    GS = list(nx.connected_component_subgraphs(G))\n",
    "    return GS\n",
    "\n",
    "\n",
    "a = nx.connected_component_subgraphs(G)\n",
    "\n",
    "allgraphs = list(a)\n",
    "#print(len(allgraphs))\n",
    "for ag in allgraphs:\n",
    "    if len(ag.nodes()) in range (1000,4000):\n",
    "        maxsubG = ag\n",
    "    if len(ag.nodes()) in range (40,50):\n",
    "        testG = ag\n",
    "    #print(len(ag.nodes()))\n",
    "baa = []\n",
    "B = nx.Graph()\n",
    "def findclusters(G):\n",
    "    if len(G.nodes()) <=  3:\n",
    "        pass\n",
    "        #baa.append(B)\n",
    "    elif highlyconnected(G):\n",
    "        baa.append(G)\n",
    "    else:\n",
    "        GS= sepgraphs(G)\n",
    "        for g in GS[:2]:\n",
    "            findclusters(g)"
   ]
  },
  {
   "cell_type": "code",
   "execution_count": null,
   "metadata": {
    "collapsed": true
   },
   "outputs": [],
   "source": []
  },
  {
   "cell_type": "code",
   "execution_count": null,
   "metadata": {
    "collapsed": false
   },
   "outputs": [],
   "source": [
    "#len(testG.nodes())"
   ]
  },
  {
   "cell_type": "code",
   "execution_count": null,
   "metadata": {
    "collapsed": true
   },
   "outputs": [],
   "source": []
  }
 ],
 "metadata": {
  "anaconda-cloud": {},
  "kernelspec": {
   "display_name": "Python [default]",
   "language": "python",
   "name": "python2"
  },
  "language_info": {
   "codemirror_mode": {
    "name": "ipython",
    "version": 2
   },
   "file_extension": ".py",
   "mimetype": "text/x-python",
   "name": "python",
   "nbconvert_exporter": "python",
   "pygments_lexer": "ipython2",
   "version": "2.7.12"
  }
 },
 "nbformat": 4,
 "nbformat_minor": 1
}
