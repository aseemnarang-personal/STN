{
 "cells": [
  {
   "cell_type": "code",
   "execution_count": 1,
   "metadata": {
    "collapsed": false
   },
   "outputs": [
    {
     "name": "stderr",
     "output_type": "stream",
     "text": [
      "/afs/inf.ed.ac.uk/user/s13/s1338673/miniconda2/envs/mlpr/lib/python2.7/site-packages/matplotlib/font_manager.py:273: UserWarning: Matplotlib is building the font cache using fc-list. This may take a moment.\n",
      "  warnings.warn('Matplotlib is building the font cache using fc-list. This may take a moment.')\n"
     ]
    }
   ],
   "source": [
    "import pandas as pd\n",
    "%matplotlib inline"
   ]
  },
  {
   "cell_type": "code",
   "execution_count": 3,
   "metadata": {
    "collapsed": false
   },
   "outputs": [],
   "source": [
    "import numpy as np\n",
    "#a = pd.read_json('yelp_academic_dataset_business.json')"
   ]
  },
  {
   "cell_type": "code",
   "execution_count": 5,
   "metadata": {
    "collapsed": false
   },
   "outputs": [],
   "source": [
    "import pandas as pd\n",
    "\n",
    "# read the entire file into a python array\n",
    "with open('yelp_academic_dataset_business.json', 'rb') as f:\n",
    "    data = f.readlines()\n",
    "\n",
    "# remove the trailing \"\\n\" from each line\n",
    "data = map(lambda x: x.rstrip(), data)\n",
    "\n",
    "# each element of 'data' is an individual JSON object.\n",
    "# i want to convert it into an *array* of JSON objects\n",
    "# which, in and of itself, is one large JSON object\n",
    "# basically... add square brackets to the beginning\n",
    "# and end, and have all the individual business JSON objects\n",
    "# separated by a comma\n",
    "data_json_str = \"[\" + ','.join(data) + \"]\"\n",
    "\n",
    "# now, load it into pandas\n",
    "data_df = pd.read_json(data_json_str)"
   ]
  },
  {
   "cell_type": "code",
   "execution_count": 156,
   "metadata": {
    "collapsed": false
   },
   "outputs": [],
   "source": [
    "edindata = data_df[data_df['city'] == 'Edinburgh']\n",
    "\n",
    "from random import shuffle\n",
    "inds = list(edindata.index)\n",
    "shuffle(inds)"
   ]
  },
  {
   "cell_type": "code",
   "execution_count": 219,
   "metadata": {
    "collapsed": false
   },
   "outputs": [],
   "source": [
    "import math\n",
    "tot = len(inds)\n",
    "train_index = inds[:int(math.ceil(tot * 0.5))]\n",
    "val_index = inds[int(math.ceil(tot*0.5)):int(math.ceil(tot*0.75))]\n",
    "test_index = inds[int(math.ceil (tot* 0.75)):]"
   ]
  },
  {
   "cell_type": "code",
   "execution_count": 220,
   "metadata": {
    "collapsed": true
   },
   "outputs": [],
   "source": [
    "#edindata_train = edindata[index[0] in train_index]\n",
    "mydata= dict()\n",
    "mydata['X_Train'] = (edindata.loc[train_index]).reset_index()\n",
    "mydata['X_Val'] = (edindata.loc[val_index]).reset_index()\n",
    "mydata['X_Test'] = (edindata.loc[test_index]).reset_index()\n",
    "\n",
    "mydata['y_train']  = mydata['X_Train']['stars']\n",
    "mydata['y_val']  = mydata['X_Val']['stars']\n",
    "mydata['y_test']  = mydata['X_Test']['stars']\n"
   ]
  },
  {
   "cell_type": "code",
   "execution_count": 221,
   "metadata": {
    "collapsed": true
   },
   "outputs": [],
   "source": [
    "import pickle\n",
    "\n",
    "file1 = open(r'mydata.pkl', 'wb')\n",
    "pickle.dump(mydata, file1)\n",
    "file1.close()"
   ]
  },
  {
   "cell_type": "code",
   "execution_count": 222,
   "metadata": {
    "collapsed": true
   },
   "outputs": [],
   "source": [
    "file2 = open(r'mydata.pkl', 'rb')\n",
    "mydat = pickle.load(file2)\n",
    "file2.close()"
   ]
  },
  {
   "cell_type": "code",
   "execution_count": 223,
   "metadata": {
    "collapsed": false
   },
   "outputs": [
    {
     "ename": "KeyError",
     "evalue": "'Train'",
     "output_type": "error",
     "traceback": [
      "\u001b[0;31m---------------------------------------------------------------------------\u001b[0m",
      "\u001b[0;31mKeyError\u001b[0m                                  Traceback (most recent call last)",
      "\u001b[0;32m<ipython-input-223-825bb0bd7b54>\u001b[0m in \u001b[0;36m<module>\u001b[0;34m()\u001b[0m\n\u001b[0;32m----> 1\u001b[0;31m \u001b[0mmydat\u001b[0m\u001b[0;34m[\u001b[0m\u001b[0;34m'Train'\u001b[0m\u001b[0;34m]\u001b[0m\u001b[0;34m\u001b[0m\u001b[0m\n\u001b[0m",
      "\u001b[0;31mKeyError\u001b[0m: 'Train'"
     ]
    }
   ],
   "source": [
    "mydat['Train']"
   ]
  },
  {
   "cell_type": "code",
   "execution_count": null,
   "metadata": {
    "collapsed": true
   },
   "outputs": [],
   "source": []
  },
  {
   "cell_type": "code",
   "execution_count": null,
   "metadata": {
    "collapsed": true
   },
   "outputs": [],
   "source": []
  },
  {
   "cell_type": "code",
   "execution_count": null,
   "metadata": {
    "collapsed": true
   },
   "outputs": [],
   "source": []
  },
  {
   "cell_type": "code",
   "execution_count": null,
   "metadata": {
    "collapsed": true
   },
   "outputs": [],
   "source": []
  },
  {
   "cell_type": "code",
   "execution_count": 186,
   "metadata": {
    "collapsed": false
   },
   "outputs": [],
   "source": [
    "#edindata[:1].index[0]\n",
    "#edindata.reset_index(inplace=True)\n",
    "#edindata[['name' , 'review_count' , 'stars']].head(10)\n",
    "#edindata[['business_id', 'latitude' , 'longitude' ,'neighborhoods' ,'name']]"
   ]
  },
  {
   "cell_type": "markdown",
   "metadata": {
    "collapsed": true
   },
   "source": [
    "### to try with networks"
   ]
  },
  {
   "cell_type": "code",
   "execution_count": 125,
   "metadata": {
    "collapsed": true
   },
   "outputs": [],
   "source": [
    "import networkx as nx\n",
    "G=nx.Graph()\n",
    "G.add_node(\"spam\")\n",
    "G.add_edge(2,1)\n",
    "G.add_edge(4,1)\n",
    "G.add_edge(4,3)\n",
    "G.add_edge(2,4)\n",
    "G.add_edge(5,2)\n",
    "G.add_edge(5,6)\n",
    "G.add_edge(6,7)\n",
    "G.add_edge(3,9)\n",
    "G.add_edge(9,10)\n",
    "G.add_edge(10,7)\n",
    "G.add_edge(9,12)\n",
    "G.add_edge(1,12)\n",
    "G.add_edge(5,13)\n",
    "#print(list(G.nodes(5)))"
   ]
  },
  {
   "cell_type": "code",
   "execution_count": 126,
   "metadata": {
    "collapsed": false
   },
   "outputs": [
    {
     "data": {
      "text/plain": [
       "[5, 3]"
      ]
     },
     "execution_count": 126,
     "metadata": {},
     "output_type": "execute_result"
    }
   ],
   "source": [
    "degone = []\n",
    "for element, a in G.edges(1):\n",
    "    degone.append(a)\n",
    "\n",
    "degtwo"
   ]
  },
  {
   "cell_type": "code",
   "execution_count": 190,
   "metadata": {
    "collapsed": false
   },
   "outputs": [],
   "source": [
    "def ourfunc(ks):\n",
    "    deg =[[]] *(ks+1)\n",
    "    for element, a in G.edges(1):\n",
    "        deg[0].append(a)\n",
    "    \n",
    "    for k in range (1,ks):\n",
    "        deg[k] = []\n",
    "        for node in deg[k-1]:\n",
    "            for e,a in G.edges(node):\n",
    "                if (a not in degone) and a!=1:\n",
    "                    deg[k].append(a)\n",
    "    deg[0] = []\n",
    "    return deg\n",
    "deg = ourfunc(3)"
   ]
  },
  {
   "cell_type": "code",
   "execution_count": 194,
   "metadata": {
    "collapsed": false
   },
   "outputs": [
    {
     "data": {
      "text/plain": [
       "3"
      ]
     },
     "execution_count": 194,
     "metadata": {},
     "output_type": "execute_result"
    }
   ],
   "source": [
    "ndeg = [len(x) for x in deg]\n",
    "ndeg[3]"
   ]
  },
  {
   "cell_type": "code",
   "execution_count": 177,
   "metadata": {
    "collapsed": false
   },
   "outputs": [],
   "source": [
    "def iterator(connections, node, mylist):\n",
    "    if connections > 1 :\n",
    "        connections -= 1\n",
    "        for node1, right_node in G.edges(1):\n",
    "            #print('a')\n",
    "            if right_node not in mylist:\n",
    "                #print(right_node)\n",
    "                mylist.append(right_node)\n",
    "                connections , node , mylist  = iterator(connections, node, mylist)\n",
    "    return connections, node, mylist"
   ]
  },
  {
   "cell_type": "code",
   "execution_count": 178,
   "metadata": {
    "collapsed": true
   },
   "outputs": [],
   "source": [
    "def get_number_connected_nodes(connections, node):\n",
    "    mylist=[]\n",
    "    abc = iterator(connections, node, mylist)\n",
    "    #print(abc)\n",
    "    number=len(mylist)\n",
    "    return number, mylist"
   ]
  },
  {
   "cell_type": "code",
   "execution_count": 180,
   "metadata": {
    "collapsed": false
   },
   "outputs": [
    {
     "data": {
      "text/plain": [
       "(3, [12, 2, 4])"
      ]
     },
     "execution_count": 180,
     "metadata": {},
     "output_type": "execute_result"
    }
   ],
   "source": [
    "get_number_connected_nodes(2,1)"
   ]
  },
  {
   "cell_type": "code",
   "execution_count": null,
   "metadata": {
    "collapsed": true
   },
   "outputs": [],
   "source": []
  }
 ],
 "metadata": {
  "anaconda-cloud": {},
  "kernelspec": {
   "display_name": "Python [default]",
   "language": "python",
   "name": "python2"
  },
  "language_info": {
   "codemirror_mode": {
    "name": "ipython",
    "version": 2
   },
   "file_extension": ".py",
   "mimetype": "text/x-python",
   "name": "python",
   "nbconvert_exporter": "python",
   "pygments_lexer": "ipython2",
   "version": "2.7.12"
  }
 },
 "nbformat": 4,
 "nbformat_minor": 1
}
