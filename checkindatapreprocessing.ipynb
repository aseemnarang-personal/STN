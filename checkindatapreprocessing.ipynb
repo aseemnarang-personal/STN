{
 "cells": [
  {
   "cell_type": "code",
   "execution_count": 32,
   "metadata": {
    "collapsed": true
   },
   "outputs": [],
   "source": [
    "#!jupyter nbconvert --to script userdatapreprocessing.ipynb"
   ]
  },
  {
   "cell_type": "code",
   "execution_count": 1,
   "metadata": {
    "collapsed": false
   },
   "outputs": [],
   "source": [
    "import pandas as pd\n",
    "import os \n",
    "import inspect\n",
    "\n",
    "# Put all datasets in 'path-to-repo/data' directory please\n",
    "path = os.path.dirname(os.path.abspath(inspect.getfile(inspect.currentframe()))) # script directory\n",
    "path += '/data/'\n",
    "\n",
    "\n",
    "os.chdir(path)\n",
    "\n",
    "with open('yelp_academic_dataset_checkin.json', 'rb') as f:\n",
    "    data = f.readlines()\n",
    "\n",
    "data = map(lambda x: x.rstrip(), data)\n",
    "\n",
    "data_json_str = \"[\" + ','.join(data) + \"]\"\n",
    "\n",
    "data_df = pd.read_json(data_json_str)"
   ]
  },
  {
   "cell_type": "code",
   "execution_count": 2,
   "metadata": {
    "collapsed": false
   },
   "outputs": [
    {
     "data": {
      "text/plain": [
       "'/afs/inf.ed.ac.uk/user/s13/s1338673/Desktop/STN/data/'"
      ]
     },
     "execution_count": 2,
     "metadata": {},
     "output_type": "execute_result"
    }
   ],
   "source": [
    "path"
   ]
  },
  {
   "cell_type": "code",
   "execution_count": 3,
   "metadata": {
    "collapsed": false
   },
   "outputs": [],
   "source": [
    "newcols = []\n",
    "for i in range(0,24):\n",
    "    for j in range (0,6):\n",
    "        newcols.append(str(i) + '-' + str(j)) "
   ]
  },
  {
   "cell_type": "code",
   "execution_count": 4,
   "metadata": {
    "collapsed": false
   },
   "outputs": [],
   "source": [
    "for newcol in newcols:\n",
    "    data_df[newcol] = 0"
   ]
  },
  {
   "cell_type": "code",
   "execution_count": 5,
   "metadata": {
    "collapsed": false
   },
   "outputs": [],
   "source": [
    "def fintot(row):\n",
    "    return sum(row['checkin_info'].values())\n",
    "\n",
    "data_df['total'] = data_df.apply(lambda row: fintot(row),axis=1)"
   ]
  },
  {
   "cell_type": "code",
   "execution_count": 6,
   "metadata": {
    "collapsed": true
   },
   "outputs": [],
   "source": [
    "def fincols(row):\n",
    "    for newcol in newcols:\n",
    "        if (newcol in row['checkin_info'].keys()):\n",
    "            row[newcol] = row['checkin_info'][newcol]\n",
    "    return row\n",
    " \n",
    "              \n",
    "ndata_df = data_df.apply(lambda row:fincols(row) ,axis=1)"
   ]
  },
  {
   "cell_type": "code",
   "execution_count": 7,
   "metadata": {
    "collapsed": false
   },
   "outputs": [],
   "source": [
    "ndata_df['business_id'] = data_df['business_id']"
   ]
  },
  {
   "cell_type": "code",
   "execution_count": 8,
   "metadata": {
    "collapsed": false
   },
   "outputs": [],
   "source": [
    "morningcol = []\n",
    "nooncol= []\n",
    "nightcol = []\n",
    "latenightcol = []\n",
    "weekendcol = []\n",
    "weekcol = []\n",
    "for newcol in newcols:\n",
    "    if (int(newcol[:-2]) in range(6,12)):\n",
    "        morningcol.append(newcol)\n",
    "    if (int(newcol[:-2]) in range(12,17)):\n",
    "            nooncol.append(newcol)\n",
    "    if (int(newcol[:-2]) in range(17,23)):\n",
    "            nightcol.append(newcol)\n",
    "    if (int(newcol[:-2]) in range(21,24)) or (int(newcol[:-2]) in range(0,4)):\n",
    "            latenightcol.append(newcol)\n",
    "    if (int(newcol[-1]) in range(0,5)): \n",
    "            weekcol.append(newcol)\n",
    "    if (int(newcol[-1]) in range(5,7)): \n",
    "            weekendcol.append(newcol)"
   ]
  },
  {
   "cell_type": "code",
   "execution_count": 9,
   "metadata": {
    "collapsed": false
   },
   "outputs": [],
   "source": [
    "def addagg(row, whichcols):\n",
    "    s = 0\n",
    "    for col in whichcols:\n",
    "        s += row[col]\n",
    "    return s"
   ]
  },
  {
   "cell_type": "code",
   "execution_count": 10,
   "metadata": {
    "collapsed": false
   },
   "outputs": [],
   "source": [
    "allcols = list(ndata_df.columns.values)[4:]"
   ]
  },
  {
   "cell_type": "code",
   "execution_count": 11,
   "metadata": {
    "collapsed": false
   },
   "outputs": [],
   "source": [
    "ndata_df['morningci'] = ndata_df.apply(lambda row:addagg(row , morningcol) ,axis=1)\n",
    "ndata_df['noonci'] = ndata_df.apply(lambda row:addagg(row , nooncol) ,axis=1)\n",
    "ndata_df['nightci'] = ndata_df.apply(lambda row:addagg(row , nightcol) ,axis=1)\n",
    "ndata_df['latenightci'] = ndata_df.apply(lambda row:addagg(row , latenightcol) ,axis=1)\n",
    "ndata_df['weekci'] = ndata_df.apply(lambda row:addagg(row , weekcol) ,axis=1)\n",
    "ndata_df['weekendci'] = ndata_df.apply(lambda row:addagg(row , weekendcol) ,axis=1)"
   ]
  },
  {
   "cell_type": "code",
   "execution_count": 12,
   "metadata": {
    "collapsed": false
   },
   "outputs": [
    {
     "data": {
      "text/html": [
       "<div>\n",
       "<table border=\"1\" class=\"dataframe\">\n",
       "  <thead>\n",
       "    <tr style=\"text-align: right;\">\n",
       "      <th></th>\n",
       "      <th>business_id</th>\n",
       "      <th>checkin_info</th>\n",
       "      <th>type</th>\n",
       "      <th>0-0</th>\n",
       "      <th>0-1</th>\n",
       "      <th>0-2</th>\n",
       "      <th>0-3</th>\n",
       "      <th>0-4</th>\n",
       "      <th>0-5</th>\n",
       "      <th>1-0</th>\n",
       "      <th>...</th>\n",
       "      <th>23-3</th>\n",
       "      <th>23-4</th>\n",
       "      <th>23-5</th>\n",
       "      <th>total</th>\n",
       "      <th>morningci</th>\n",
       "      <th>noonci</th>\n",
       "      <th>nightci</th>\n",
       "      <th>latenightci</th>\n",
       "      <th>weekci</th>\n",
       "      <th>weekendci</th>\n",
       "    </tr>\n",
       "  </thead>\n",
       "  <tbody>\n",
       "    <tr>\n",
       "      <th>0</th>\n",
       "      <td>cE27W9VPgO88Qxe4ol6y_g</td>\n",
       "      <td>{u'9-5': 1, u'7-5': 1, u'13-3': 1, u'17-6': 1,...</td>\n",
       "      <td>checkin</td>\n",
       "      <td>0</td>\n",
       "      <td>0</td>\n",
       "      <td>0</td>\n",
       "      <td>0</td>\n",
       "      <td>0</td>\n",
       "      <td>0</td>\n",
       "      <td>0</td>\n",
       "      <td>...</td>\n",
       "      <td>0</td>\n",
       "      <td>0</td>\n",
       "      <td>0</td>\n",
       "      <td>9</td>\n",
       "      <td>3</td>\n",
       "      <td>2</td>\n",
       "      <td>2</td>\n",
       "      <td>0</td>\n",
       "      <td>5</td>\n",
       "      <td>2</td>\n",
       "    </tr>\n",
       "    <tr>\n",
       "      <th>1</th>\n",
       "      <td>mVHrayjG3uZ_RLHkLj-AMg</td>\n",
       "      <td>{u'11-5': 1, u'9-5': 2, u'9-4': 3, u'15-1': 1,...</td>\n",
       "      <td>checkin</td>\n",
       "      <td>0</td>\n",
       "      <td>0</td>\n",
       "      <td>0</td>\n",
       "      <td>0</td>\n",
       "      <td>0</td>\n",
       "      <td>0</td>\n",
       "      <td>0</td>\n",
       "      <td>...</td>\n",
       "      <td>0</td>\n",
       "      <td>0</td>\n",
       "      <td>0</td>\n",
       "      <td>28</td>\n",
       "      <td>13</td>\n",
       "      <td>12</td>\n",
       "      <td>3</td>\n",
       "      <td>2</td>\n",
       "      <td>21</td>\n",
       "      <td>7</td>\n",
       "    </tr>\n",
       "    <tr>\n",
       "      <th>2</th>\n",
       "      <td>mYSpR_SLPgUVymYOvTQd_Q</td>\n",
       "      <td>{u'5-5': 1, u'5-4': 1, u'9-3': 1, u'11-4': 1, ...</td>\n",
       "      <td>checkin</td>\n",
       "      <td>0</td>\n",
       "      <td>0</td>\n",
       "      <td>0</td>\n",
       "      <td>0</td>\n",
       "      <td>0</td>\n",
       "      <td>0</td>\n",
       "      <td>0</td>\n",
       "      <td>...</td>\n",
       "      <td>0</td>\n",
       "      <td>0</td>\n",
       "      <td>0</td>\n",
       "      <td>8</td>\n",
       "      <td>3</td>\n",
       "      <td>2</td>\n",
       "      <td>1</td>\n",
       "      <td>0</td>\n",
       "      <td>6</td>\n",
       "      <td>2</td>\n",
       "    </tr>\n",
       "    <tr>\n",
       "      <th>3</th>\n",
       "      <td>KayYbHCt-RkbGcPdGOThNg</td>\n",
       "      <td>{u'23-1': 1, u'11-2': 2, u'21-4': 1, u'16-1': ...</td>\n",
       "      <td>checkin</td>\n",
       "      <td>0</td>\n",
       "      <td>0</td>\n",
       "      <td>0</td>\n",
       "      <td>0</td>\n",
       "      <td>0</td>\n",
       "      <td>0</td>\n",
       "      <td>0</td>\n",
       "      <td>...</td>\n",
       "      <td>0</td>\n",
       "      <td>0</td>\n",
       "      <td>0</td>\n",
       "      <td>65</td>\n",
       "      <td>20</td>\n",
       "      <td>27</td>\n",
       "      <td>16</td>\n",
       "      <td>6</td>\n",
       "      <td>56</td>\n",
       "      <td>8</td>\n",
       "    </tr>\n",
       "    <tr>\n",
       "      <th>4</th>\n",
       "      <td>b12U9TFESStdy7CsTtcOeg</td>\n",
       "      <td>{u'5-5': 2, u'13-2': 1, u'8-6': 1, u'5-1': 2, ...</td>\n",
       "      <td>checkin</td>\n",
       "      <td>0</td>\n",
       "      <td>0</td>\n",
       "      <td>0</td>\n",
       "      <td>0</td>\n",
       "      <td>0</td>\n",
       "      <td>0</td>\n",
       "      <td>0</td>\n",
       "      <td>...</td>\n",
       "      <td>0</td>\n",
       "      <td>0</td>\n",
       "      <td>0</td>\n",
       "      <td>7</td>\n",
       "      <td>1</td>\n",
       "      <td>1</td>\n",
       "      <td>0</td>\n",
       "      <td>0</td>\n",
       "      <td>4</td>\n",
       "      <td>2</td>\n",
       "    </tr>\n",
       "  </tbody>\n",
       "</table>\n",
       "<p>5 rows × 154 columns</p>\n",
       "</div>"
      ],
      "text/plain": [
       "              business_id                                       checkin_info  \\\n",
       "0  cE27W9VPgO88Qxe4ol6y_g  {u'9-5': 1, u'7-5': 1, u'13-3': 1, u'17-6': 1,...   \n",
       "1  mVHrayjG3uZ_RLHkLj-AMg  {u'11-5': 1, u'9-5': 2, u'9-4': 3, u'15-1': 1,...   \n",
       "2  mYSpR_SLPgUVymYOvTQd_Q  {u'5-5': 1, u'5-4': 1, u'9-3': 1, u'11-4': 1, ...   \n",
       "3  KayYbHCt-RkbGcPdGOThNg  {u'23-1': 1, u'11-2': 2, u'21-4': 1, u'16-1': ...   \n",
       "4  b12U9TFESStdy7CsTtcOeg  {u'5-5': 2, u'13-2': 1, u'8-6': 1, u'5-1': 2, ...   \n",
       "\n",
       "      type  0-0  0-1  0-2  0-3  0-4  0-5  1-0    ...      23-3  23-4  23-5  \\\n",
       "0  checkin    0    0    0    0    0    0    0    ...         0     0     0   \n",
       "1  checkin    0    0    0    0    0    0    0    ...         0     0     0   \n",
       "2  checkin    0    0    0    0    0    0    0    ...         0     0     0   \n",
       "3  checkin    0    0    0    0    0    0    0    ...         0     0     0   \n",
       "4  checkin    0    0    0    0    0    0    0    ...         0     0     0   \n",
       "\n",
       "   total  morningci  noonci  nightci  latenightci  weekci  weekendci  \n",
       "0      9          3       2        2            0       5          2  \n",
       "1     28         13      12        3            2      21          7  \n",
       "2      8          3       2        1            0       6          2  \n",
       "3     65         20      27       16            6      56          8  \n",
       "4      7          1       1        0            0       4          2  \n",
       "\n",
       "[5 rows x 154 columns]"
      ]
     },
     "execution_count": 12,
     "metadata": {},
     "output_type": "execute_result"
    }
   ],
   "source": [
    "ndata_df.head()"
   ]
  },
  {
   "cell_type": "code",
   "execution_count": 13,
   "metadata": {
    "collapsed": true
   },
   "outputs": [],
   "source": [
    "def removehip(row):\n",
    "    if(row['business_id'][:2]=='--'):\n",
    "        return row['business_id'][2:]\n",
    "    if(row['business_id'][0]=='-'):\n",
    "        return row['business_id'][1:]"
   ]
  },
  {
   "cell_type": "code",
   "execution_count": 14,
   "metadata": {
    "collapsed": false
   },
   "outputs": [],
   "source": [
    "#ndata_df['business_id'] = ndata_df.apply(lambda row:removehip(row) ,axis=1)"
   ]
  },
  {
   "cell_type": "code",
   "execution_count": 15,
   "metadata": {
    "collapsed": false
   },
   "outputs": [],
   "source": [
    "#ndata_df.groupby(by=['business_id'])[allcols].sum()"
   ]
  },
  {
   "cell_type": "code",
   "execution_count": 16,
   "metadata": {
    "collapsed": false
   },
   "outputs": [],
   "source": [
    "aggdata_df = ndata_df.groupby(by=['business_id'])[allcols].sum()"
   ]
  },
  {
   "cell_type": "code",
   "execution_count": 17,
   "metadata": {
    "collapsed": false
   },
   "outputs": [
    {
     "data": {
      "text/html": [
       "<div>\n",
       "<table border=\"1\" class=\"dataframe\">\n",
       "  <thead>\n",
       "    <tr style=\"text-align: right;\">\n",
       "      <th></th>\n",
       "      <th>0-1</th>\n",
       "      <th>0-2</th>\n",
       "      <th>0-3</th>\n",
       "      <th>0-4</th>\n",
       "      <th>0-5</th>\n",
       "      <th>1-0</th>\n",
       "      <th>1-1</th>\n",
       "      <th>1-2</th>\n",
       "      <th>1-3</th>\n",
       "      <th>1-4</th>\n",
       "      <th>...</th>\n",
       "      <th>22-3</th>\n",
       "      <th>22-4</th>\n",
       "      <th>22-5</th>\n",
       "      <th>23-0</th>\n",
       "      <th>23-1</th>\n",
       "      <th>23-2</th>\n",
       "      <th>23-3</th>\n",
       "      <th>23-4</th>\n",
       "      <th>23-5</th>\n",
       "      <th>total</th>\n",
       "    </tr>\n",
       "    <tr>\n",
       "      <th>business_id</th>\n",
       "      <th></th>\n",
       "      <th></th>\n",
       "      <th></th>\n",
       "      <th></th>\n",
       "      <th></th>\n",
       "      <th></th>\n",
       "      <th></th>\n",
       "      <th></th>\n",
       "      <th></th>\n",
       "      <th></th>\n",
       "      <th></th>\n",
       "      <th></th>\n",
       "      <th></th>\n",
       "      <th></th>\n",
       "      <th></th>\n",
       "      <th></th>\n",
       "      <th></th>\n",
       "      <th></th>\n",
       "      <th></th>\n",
       "      <th></th>\n",
       "      <th></th>\n",
       "    </tr>\n",
       "  </thead>\n",
       "  <tbody>\n",
       "    <tr>\n",
       "      <th>--1emggGHgoG6ipd_RMb-g</th>\n",
       "      <td>0</td>\n",
       "      <td>0</td>\n",
       "      <td>0</td>\n",
       "      <td>0</td>\n",
       "      <td>0</td>\n",
       "      <td>0</td>\n",
       "      <td>0</td>\n",
       "      <td>0</td>\n",
       "      <td>0</td>\n",
       "      <td>0</td>\n",
       "      <td>...</td>\n",
       "      <td>0</td>\n",
       "      <td>0</td>\n",
       "      <td>0</td>\n",
       "      <td>0</td>\n",
       "      <td>0</td>\n",
       "      <td>0</td>\n",
       "      <td>0</td>\n",
       "      <td>0</td>\n",
       "      <td>0</td>\n",
       "      <td>18</td>\n",
       "    </tr>\n",
       "    <tr>\n",
       "      <th>--4Pe8BZ6gj57VFL5mUE8g</th>\n",
       "      <td>0</td>\n",
       "      <td>0</td>\n",
       "      <td>0</td>\n",
       "      <td>0</td>\n",
       "      <td>0</td>\n",
       "      <td>0</td>\n",
       "      <td>0</td>\n",
       "      <td>0</td>\n",
       "      <td>0</td>\n",
       "      <td>0</td>\n",
       "      <td>...</td>\n",
       "      <td>0</td>\n",
       "      <td>0</td>\n",
       "      <td>0</td>\n",
       "      <td>0</td>\n",
       "      <td>0</td>\n",
       "      <td>0</td>\n",
       "      <td>0</td>\n",
       "      <td>0</td>\n",
       "      <td>0</td>\n",
       "      <td>35</td>\n",
       "    </tr>\n",
       "    <tr>\n",
       "      <th>--5jkZ3-nUPZxUvtcbr8Uw</th>\n",
       "      <td>0</td>\n",
       "      <td>0</td>\n",
       "      <td>0</td>\n",
       "      <td>1</td>\n",
       "      <td>0</td>\n",
       "      <td>0</td>\n",
       "      <td>0</td>\n",
       "      <td>0</td>\n",
       "      <td>0</td>\n",
       "      <td>0</td>\n",
       "      <td>...</td>\n",
       "      <td>0</td>\n",
       "      <td>0</td>\n",
       "      <td>0</td>\n",
       "      <td>0</td>\n",
       "      <td>0</td>\n",
       "      <td>0</td>\n",
       "      <td>0</td>\n",
       "      <td>0</td>\n",
       "      <td>0</td>\n",
       "      <td>546</td>\n",
       "    </tr>\n",
       "    <tr>\n",
       "      <th>--AKjxBmhm9DWrh-e0hTOw</th>\n",
       "      <td>0</td>\n",
       "      <td>0</td>\n",
       "      <td>0</td>\n",
       "      <td>0</td>\n",
       "      <td>0</td>\n",
       "      <td>0</td>\n",
       "      <td>0</td>\n",
       "      <td>0</td>\n",
       "      <td>0</td>\n",
       "      <td>0</td>\n",
       "      <td>...</td>\n",
       "      <td>0</td>\n",
       "      <td>0</td>\n",
       "      <td>0</td>\n",
       "      <td>0</td>\n",
       "      <td>0</td>\n",
       "      <td>0</td>\n",
       "      <td>0</td>\n",
       "      <td>0</td>\n",
       "      <td>0</td>\n",
       "      <td>6</td>\n",
       "    </tr>\n",
       "    <tr>\n",
       "      <th>--BlvDO_RG2yElKu9XA1_g</th>\n",
       "      <td>0</td>\n",
       "      <td>0</td>\n",
       "      <td>0</td>\n",
       "      <td>0</td>\n",
       "      <td>0</td>\n",
       "      <td>0</td>\n",
       "      <td>0</td>\n",
       "      <td>0</td>\n",
       "      <td>0</td>\n",
       "      <td>0</td>\n",
       "      <td>...</td>\n",
       "      <td>1</td>\n",
       "      <td>0</td>\n",
       "      <td>0</td>\n",
       "      <td>0</td>\n",
       "      <td>0</td>\n",
       "      <td>0</td>\n",
       "      <td>0</td>\n",
       "      <td>0</td>\n",
       "      <td>0</td>\n",
       "      <td>336</td>\n",
       "    </tr>\n",
       "  </tbody>\n",
       "</table>\n",
       "<p>5 rows × 144 columns</p>\n",
       "</div>"
      ],
      "text/plain": [
       "                        0-1  0-2  0-3  0-4  0-5  1-0  1-1  1-2  1-3  1-4  \\\n",
       "business_id                                                                \n",
       "--1emggGHgoG6ipd_RMb-g    0    0    0    0    0    0    0    0    0    0   \n",
       "--4Pe8BZ6gj57VFL5mUE8g    0    0    0    0    0    0    0    0    0    0   \n",
       "--5jkZ3-nUPZxUvtcbr8Uw    0    0    0    1    0    0    0    0    0    0   \n",
       "--AKjxBmhm9DWrh-e0hTOw    0    0    0    0    0    0    0    0    0    0   \n",
       "--BlvDO_RG2yElKu9XA1_g    0    0    0    0    0    0    0    0    0    0   \n",
       "\n",
       "                        ...    22-3  22-4  22-5  23-0  23-1  23-2  23-3  23-4  \\\n",
       "business_id             ...                                                     \n",
       "--1emggGHgoG6ipd_RMb-g  ...       0     0     0     0     0     0     0     0   \n",
       "--4Pe8BZ6gj57VFL5mUE8g  ...       0     0     0     0     0     0     0     0   \n",
       "--5jkZ3-nUPZxUvtcbr8Uw  ...       0     0     0     0     0     0     0     0   \n",
       "--AKjxBmhm9DWrh-e0hTOw  ...       0     0     0     0     0     0     0     0   \n",
       "--BlvDO_RG2yElKu9XA1_g  ...       1     0     0     0     0     0     0     0   \n",
       "\n",
       "                        23-5  total  \n",
       "business_id                          \n",
       "--1emggGHgoG6ipd_RMb-g     0     18  \n",
       "--4Pe8BZ6gj57VFL5mUE8g     0     35  \n",
       "--5jkZ3-nUPZxUvtcbr8Uw     0    546  \n",
       "--AKjxBmhm9DWrh-e0hTOw     0      6  \n",
       "--BlvDO_RG2yElKu9XA1_g     0    336  \n",
       "\n",
       "[5 rows x 144 columns]"
      ]
     },
     "execution_count": 17,
     "metadata": {},
     "output_type": "execute_result"
    }
   ],
   "source": [
    "aggdata_df.head()"
   ]
  },
  {
   "cell_type": "code",
   "execution_count": 31,
   "metadata": {
    "collapsed": true
   },
   "outputs": [],
   "source": [
    "import pickle\n",
    "\n",
    "file5 = open(r'agguserdata.pkl', 'wb')\n",
    "pickle.dump(aggdata_df, file5)\n",
    "file5.close()"
   ]
  },
  {
   "cell_type": "code",
   "execution_count": null,
   "metadata": {
    "collapsed": true
   },
   "outputs": [],
   "source": []
  },
  {
   "cell_type": "code",
   "execution_count": null,
   "metadata": {
    "collapsed": true
   },
   "outputs": [],
   "source": []
  }
 ],
 "metadata": {
  "anaconda-cloud": {},
  "kernelspec": {
   "display_name": "Python [conda env:mlp]",
   "language": "python",
   "name": "conda-env-mlp-py"
  },
  "language_info": {
   "codemirror_mode": {
    "name": "ipython",
    "version": 2
   },
   "file_extension": ".py",
   "mimetype": "text/x-python",
   "name": "python",
   "nbconvert_exporter": "python",
   "pygments_lexer": "ipython2",
   "version": "2.7.12"
  }
 },
 "nbformat": 4,
 "nbformat_minor": 1
}
