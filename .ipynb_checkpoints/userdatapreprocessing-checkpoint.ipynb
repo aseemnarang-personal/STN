{
 "cells": [
  {
   "cell_type": "code",
   "execution_count": 22,
   "metadata": {
    "collapsed": true
   },
   "outputs": [],
   "source": [
    "import pandas as pd\n",
    "with open('yelp_academic_dataset_checkin.json', 'rb') as f:\n",
    "    data = f.readlines()\n",
    "\n",
    "data = map(lambda x: x.rstrip(), data)\n",
    "\n",
    "data_json_str = \"[\" + ','.join(data) + \"]\"\n",
    "\n",
    "data_df = pd.read_json(data_json_str)"
   ]
  },
  {
   "cell_type": "code",
   "execution_count": 23,
   "metadata": {
    "collapsed": false
   },
   "outputs": [
    {
     "data": {
      "text/plain": [
       "80"
      ]
     },
     "execution_count": 23,
     "metadata": {},
     "output_type": "execute_result"
    }
   ],
   "source": [
    "sum((list(data_df[49:50]['checkin_info'])[0].values()))"
   ]
  },
  {
   "cell_type": "code",
   "execution_count": 24,
   "metadata": {
    "collapsed": false
   },
   "outputs": [],
   "source": [
    "#((list(data_df[:1]['checkin_info']))[0])"
   ]
  },
  {
   "cell_type": "code",
   "execution_count": 25,
   "metadata": {
    "collapsed": false
   },
   "outputs": [],
   "source": [
    "newcols = []\n",
    "for i in range(0,24):\n",
    "    for j in range (0,6):\n",
    "        newcols.append(str(i) + '-' + str(j)) "
   ]
  },
  {
   "cell_type": "code",
   "execution_count": 26,
   "metadata": {
    "collapsed": false
   },
   "outputs": [],
   "source": [
    "for newcol in newcols:\n",
    "    data_df[newcol] = 0"
   ]
  },
  {
   "cell_type": "code",
   "execution_count": 27,
   "metadata": {
    "collapsed": false
   },
   "outputs": [],
   "source": [
    "def fintot(row):\n",
    "    return sum(row['checkin_info'].values())\n",
    "\n",
    "data_df['total'] = data_df.apply(lambda row: fintot(row),axis=1)"
   ]
  },
  {
   "cell_type": "code",
   "execution_count": null,
   "metadata": {
    "collapsed": true
   },
   "outputs": [],
   "source": [
    "def fincols(row):\n",
    "    for newcol in newcols:\n",
    "        if (newcol in row['checkin_info'].keys()):\n",
    "            row[newcol] = row['checkin_info'][newcol]\n",
    "    return row\n",
    " \n",
    "              \n",
    "ndata_df = data_df.apply(lambda row:fincols(row) ,axis=1)"
   ]
  },
  {
   "cell_type": "code",
   "execution_count": 37,
   "metadata": {
    "collapsed": false
   },
   "outputs": [],
   "source": [
    "ndata_df['business_id'] = data_df['business_id']"
   ]
  },
  {
   "cell_type": "code",
   "execution_count": 62,
   "metadata": {
    "collapsed": false
   },
   "outputs": [],
   "source": [
    "morningcol = []\n",
    "nooncol= []\n",
    "nightcol = []\n",
    "latenightcol = []\n",
    "weekendcol = []\n",
    "weekcol = []\n",
    "for newcol in newcols:\n",
    "    if (int(newcol[:-2]) in range(6,12)):\n",
    "        morningcol.append(newcol)\n",
    "    if (int(newcol[:-2]) in range(12,17)):\n",
    "            nooncol.append(newcol)\n",
    "    if (int(newcol[:-2]) in range(17,23)):\n",
    "            nightcol.append(newcol)\n",
    "    if (int(newcol[:-2]) in range(21,24)) or (int(newcol[:-2]) in range(0,4)):\n",
    "            latenightcol.append(newcol)\n",
    "    if (int(newcol[-1]) in range(0,5)): \n",
    "            weekcol.append(newcol)\n",
    "    if (int(newcol[-1]) in range(5,7)): \n",
    "            weekendcol.append(newcol)"
   ]
  },
  {
   "cell_type": "code",
   "execution_count": 66,
   "metadata": {
    "collapsed": false
   },
   "outputs": [],
   "source": [
    "def addagg(row, whichcols):\n",
    "    s = 0\n",
    "    for col in whichcols:\n",
    "        s += row[col]\n",
    "    print(s)"
   ]
  },
  {
   "cell_type": "code",
   "execution_count": 67,
   "metadata": {
    "collapsed": true
   },
   "outputs": [],
   "source": [
    "ndata_df['morningci'] = data_df.apply(lambda row:addagg(row , morningcol) ,axis=1)"
   ]
  },
  {
   "cell_type": "code",
   "execution_count": 69,
   "metadata": {
    "collapsed": false
   },
   "outputs": [
    {
     "data": {
      "text/html": [
       "<div>\n",
       "<table border=\"1\" class=\"dataframe\">\n",
       "  <thead>\n",
       "    <tr style=\"text-align: right;\">\n",
       "      <th></th>\n",
       "      <th>business_id</th>\n",
       "      <th>checkin_info</th>\n",
       "      <th>type</th>\n",
       "      <th>0-0</th>\n",
       "      <th>0-1</th>\n",
       "      <th>0-2</th>\n",
       "      <th>0-3</th>\n",
       "      <th>0-4</th>\n",
       "      <th>0-5</th>\n",
       "      <th>1-0</th>\n",
       "      <th>...</th>\n",
       "      <th>22-4</th>\n",
       "      <th>22-5</th>\n",
       "      <th>23-0</th>\n",
       "      <th>23-1</th>\n",
       "      <th>23-2</th>\n",
       "      <th>23-3</th>\n",
       "      <th>23-4</th>\n",
       "      <th>23-5</th>\n",
       "      <th>total</th>\n",
       "      <th>morningci</th>\n",
       "    </tr>\n",
       "  </thead>\n",
       "  <tbody>\n",
       "    <tr>\n",
       "      <th>0</th>\n",
       "      <td>cE27W9VPgO88Qxe4ol6y_g</td>\n",
       "      <td>{u'9-5': 1, u'7-5': 1, u'13-3': 1, u'17-6': 1,...</td>\n",
       "      <td>checkin</td>\n",
       "      <td>0</td>\n",
       "      <td>0</td>\n",
       "      <td>0</td>\n",
       "      <td>0</td>\n",
       "      <td>0</td>\n",
       "      <td>0</td>\n",
       "      <td>0</td>\n",
       "      <td>...</td>\n",
       "      <td>0</td>\n",
       "      <td>0</td>\n",
       "      <td>0</td>\n",
       "      <td>0</td>\n",
       "      <td>0</td>\n",
       "      <td>0</td>\n",
       "      <td>0</td>\n",
       "      <td>0</td>\n",
       "      <td>9</td>\n",
       "      <td>0</td>\n",
       "    </tr>\n",
       "    <tr>\n",
       "      <th>1</th>\n",
       "      <td>mVHrayjG3uZ_RLHkLj-AMg</td>\n",
       "      <td>{u'11-5': 1, u'9-5': 2, u'9-4': 3, u'15-1': 1,...</td>\n",
       "      <td>checkin</td>\n",
       "      <td>0</td>\n",
       "      <td>0</td>\n",
       "      <td>0</td>\n",
       "      <td>0</td>\n",
       "      <td>0</td>\n",
       "      <td>0</td>\n",
       "      <td>0</td>\n",
       "      <td>...</td>\n",
       "      <td>0</td>\n",
       "      <td>1</td>\n",
       "      <td>0</td>\n",
       "      <td>0</td>\n",
       "      <td>0</td>\n",
       "      <td>0</td>\n",
       "      <td>0</td>\n",
       "      <td>0</td>\n",
       "      <td>28</td>\n",
       "      <td>0</td>\n",
       "    </tr>\n",
       "    <tr>\n",
       "      <th>2</th>\n",
       "      <td>mYSpR_SLPgUVymYOvTQd_Q</td>\n",
       "      <td>{u'5-5': 1, u'5-4': 1, u'9-3': 1, u'11-4': 1, ...</td>\n",
       "      <td>checkin</td>\n",
       "      <td>0</td>\n",
       "      <td>0</td>\n",
       "      <td>0</td>\n",
       "      <td>0</td>\n",
       "      <td>0</td>\n",
       "      <td>0</td>\n",
       "      <td>0</td>\n",
       "      <td>...</td>\n",
       "      <td>0</td>\n",
       "      <td>0</td>\n",
       "      <td>0</td>\n",
       "      <td>0</td>\n",
       "      <td>0</td>\n",
       "      <td>0</td>\n",
       "      <td>0</td>\n",
       "      <td>0</td>\n",
       "      <td>8</td>\n",
       "      <td>0</td>\n",
       "    </tr>\n",
       "    <tr>\n",
       "      <th>3</th>\n",
       "      <td>KayYbHCt-RkbGcPdGOThNg</td>\n",
       "      <td>{u'23-1': 1, u'11-2': 2, u'21-4': 1, u'16-1': ...</td>\n",
       "      <td>checkin</td>\n",
       "      <td>0</td>\n",
       "      <td>0</td>\n",
       "      <td>0</td>\n",
       "      <td>0</td>\n",
       "      <td>0</td>\n",
       "      <td>0</td>\n",
       "      <td>0</td>\n",
       "      <td>...</td>\n",
       "      <td>0</td>\n",
       "      <td>1</td>\n",
       "      <td>0</td>\n",
       "      <td>1</td>\n",
       "      <td>0</td>\n",
       "      <td>0</td>\n",
       "      <td>0</td>\n",
       "      <td>0</td>\n",
       "      <td>65</td>\n",
       "      <td>0</td>\n",
       "    </tr>\n",
       "    <tr>\n",
       "      <th>4</th>\n",
       "      <td>b12U9TFESStdy7CsTtcOeg</td>\n",
       "      <td>{u'5-5': 2, u'13-2': 1, u'8-6': 1, u'5-1': 2, ...</td>\n",
       "      <td>checkin</td>\n",
       "      <td>0</td>\n",
       "      <td>0</td>\n",
       "      <td>0</td>\n",
       "      <td>0</td>\n",
       "      <td>0</td>\n",
       "      <td>0</td>\n",
       "      <td>0</td>\n",
       "      <td>...</td>\n",
       "      <td>0</td>\n",
       "      <td>0</td>\n",
       "      <td>0</td>\n",
       "      <td>0</td>\n",
       "      <td>0</td>\n",
       "      <td>0</td>\n",
       "      <td>0</td>\n",
       "      <td>0</td>\n",
       "      <td>7</td>\n",
       "      <td>0</td>\n",
       "    </tr>\n",
       "  </tbody>\n",
       "</table>\n",
       "<p>5 rows × 149 columns</p>\n",
       "</div>"
      ],
      "text/plain": [
       "              business_id                                       checkin_info  \\\n",
       "0  cE27W9VPgO88Qxe4ol6y_g  {u'9-5': 1, u'7-5': 1, u'13-3': 1, u'17-6': 1,...   \n",
       "1  mVHrayjG3uZ_RLHkLj-AMg  {u'11-5': 1, u'9-5': 2, u'9-4': 3, u'15-1': 1,...   \n",
       "2  mYSpR_SLPgUVymYOvTQd_Q  {u'5-5': 1, u'5-4': 1, u'9-3': 1, u'11-4': 1, ...   \n",
       "3  KayYbHCt-RkbGcPdGOThNg  {u'23-1': 1, u'11-2': 2, u'21-4': 1, u'16-1': ...   \n",
       "4  b12U9TFESStdy7CsTtcOeg  {u'5-5': 2, u'13-2': 1, u'8-6': 1, u'5-1': 2, ...   \n",
       "\n",
       "      type  0-0  0-1  0-2  0-3  0-4  0-5  1-0    ...      22-4  22-5  23-0  \\\n",
       "0  checkin    0    0    0    0    0    0    0    ...         0     0     0   \n",
       "1  checkin    0    0    0    0    0    0    0    ...         0     1     0   \n",
       "2  checkin    0    0    0    0    0    0    0    ...         0     0     0   \n",
       "3  checkin    0    0    0    0    0    0    0    ...         0     1     0   \n",
       "4  checkin    0    0    0    0    0    0    0    ...         0     0     0   \n",
       "\n",
       "   23-1  23-2  23-3  23-4  23-5  total  morningci  \n",
       "0     0     0     0     0     0      9          0  \n",
       "1     0     0     0     0     0     28          0  \n",
       "2     0     0     0     0     0      8          0  \n",
       "3     1     0     0     0     0     65          0  \n",
       "4     0     0     0     0     0      7          0  \n",
       "\n",
       "[5 rows x 149 columns]"
      ]
     },
     "execution_count": 69,
     "metadata": {},
     "output_type": "execute_result"
    }
   ],
   "source": [
    "ndata_df.head()"
   ]
  },
  {
   "cell_type": "code",
   "execution_count": null,
   "metadata": {
    "collapsed": true
   },
   "outputs": [],
   "source": []
  }
 ],
 "metadata": {
  "anaconda-cloud": {},
  "kernelspec": {
   "display_name": "Python [conda env:mlp]",
   "language": "python",
   "name": "conda-env-mlp-py"
  },
  "language_info": {
   "codemirror_mode": {
    "name": "ipython",
    "version": 2
   },
   "file_extension": ".py",
   "mimetype": "text/x-python",
   "name": "python",
   "nbconvert_exporter": "python",
   "pygments_lexer": "ipython2",
   "version": "2.7.12"
  }
 },
 "nbformat": 4,
 "nbformat_minor": 1
}
