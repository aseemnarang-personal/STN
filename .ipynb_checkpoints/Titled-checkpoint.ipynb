{
 "cells": [
  {
   "cell_type": "code",
   "execution_count": 1,
   "metadata": {
    "collapsed": false
   },
   "outputs": [],
   "source": [
    "import matplotlib.pyplot as plt\n",
    "%matplotlib inline\n",
    "import pickle\n",
    "import pandas as pd\n",
    "import os \n",
    "import inspect\n",
    "\n",
    "# Put all datasets in 'path-to-repo/data' directory please\n",
    "path = os.path.dirname(os.path.abspath(inspect.getfile(inspect.currentframe()))) # script directory\n",
    "path += '/scripts/'\n",
    "\n",
    "os.chdir(path)\n",
    "from get_graph import *"
   ]
  },
  {
   "cell_type": "code",
   "execution_count": 2,
   "metadata": {
    "collapsed": false
   },
   "outputs": [
    {
     "data": {
      "text/plain": [
       "u'/afs/inf.ed.ac.uk/user/s13/s1338673/Desktop/STN/data'"
      ]
     },
     "execution_count": 2,
     "metadata": {},
     "output_type": "execute_result"
    }
   ],
   "source": [
    "pwd"
   ]
  },
  {
   "cell_type": "code",
   "execution_count": 3,
   "metadata": {
    "collapsed": false
   },
   "outputs": [],
   "source": [
    "file2 = open(r'clusterdata.pkl', 'rb')\n",
    "clusterdata = pickle.load(file2)\n",
    "file2.close()"
   ]
  },
  {
   "cell_type": "code",
   "execution_count": 4,
   "metadata": {
    "collapsed": true
   },
   "outputs": [],
   "source": [
    "file2 = open(r'mydata.pkl', 'rb')\n",
    "mydata = pickle.load(file2)\n",
    "file2.close()"
   ]
  },
  {
   "cell_type": "code",
   "execution_count": 5,
   "metadata": {
    "collapsed": true
   },
   "outputs": [],
   "source": [
    "file2 = open(r'deglist.pkl', 'rb')\n",
    "deglist = pickle.load(file2)\n",
    "file2.close()"
   ]
  },
  {
   "cell_type": "code",
   "execution_count": 6,
   "metadata": {
    "collapsed": false
   },
   "outputs": [
    {
     "data": {
      "text/plain": [
       "[(u'guIvTBHp1oxs76q44qQ9Pg', 55.9508754, -3.1914633),\n",
       " (u'TI5mg9fDWLjt8G7Wo42U6A', 55.9508754, -3.1914633),\n",
       " (u'-Q9Npsm2YDggz5U7rvctaA', 55.9504, -3.19392),\n",
       " (u'EqRcCaLSWokuz5Z7MRpzlw', 55.9501189405058, -3.19347023963928),\n",
       " (u'ZfJcqm6k8LfsgzfgrWbLjA', 55.9499753, -3.1929207)]"
      ]
     },
     "execution_count": 6,
     "metadata": {},
     "output_type": "execute_result"
    }
   ],
   "source": [
    "deglist[:5]"
   ]
  },
  {
   "cell_type": "code",
   "execution_count": 7,
   "metadata": {
    "collapsed": true
   },
   "outputs": [],
   "source": [
    "file2 = open(r'clusters.pkl', 'rb')\n",
    "clusters = pickle.load(file2)\n",
    "file2.close()"
   ]
  },
  {
   "cell_type": "code",
   "execution_count": 8,
   "metadata": {
    "collapsed": false
   },
   "outputs": [],
   "source": [
    "edindata = mydata['X_Train']"
   ]
  },
  {
   "cell_type": "code",
   "execution_count": 9,
   "metadata": {
    "collapsed": false
   },
   "outputs": [],
   "source": [
    "a = clusterdata[clusterdata.index == 'mV2qIJvhYuHTI0_to25nrQ']['total'].values[0]"
   ]
  },
  {
   "cell_type": "code",
   "execution_count": 10,
   "metadata": {
    "collapsed": false
   },
   "outputs": [
    {
     "data": {
      "text/html": [
       "<div>\n",
       "<table border=\"1\" class=\"dataframe\">\n",
       "  <thead>\n",
       "    <tr style=\"text-align: right;\">\n",
       "      <th></th>\n",
       "      <th>total</th>\n",
       "      <th>morningci</th>\n",
       "      <th>noonci</th>\n",
       "      <th>nightci</th>\n",
       "      <th>latenightci</th>\n",
       "      <th>weekci</th>\n",
       "      <th>weekendci</th>\n",
       "    </tr>\n",
       "  </thead>\n",
       "  <tbody>\n",
       "    <tr>\n",
       "      <th>mV2qIJvhYuHTI0_to25nrQ</th>\n",
       "      <td>492</td>\n",
       "      <td>2703</td>\n",
       "      <td>896</td>\n",
       "      <td>46</td>\n",
       "      <td>1099</td>\n",
       "      <td>1846</td>\n",
       "      <td>4512</td>\n",
       "    </tr>\n",
       "    <tr>\n",
       "      <th>vxkQj8d-h_xojFOCgHBu-g</th>\n",
       "      <td>0</td>\n",
       "      <td>2</td>\n",
       "      <td>2</td>\n",
       "      <td>0</td>\n",
       "      <td>2</td>\n",
       "      <td>1</td>\n",
       "      <td>4</td>\n",
       "    </tr>\n",
       "    <tr>\n",
       "      <th>hwCz3dtXNGhg0TGQgSjSiA</th>\n",
       "      <td>32</td>\n",
       "      <td>117</td>\n",
       "      <td>16</td>\n",
       "      <td>1</td>\n",
       "      <td>50</td>\n",
       "      <td>73</td>\n",
       "      <td>203</td>\n",
       "    </tr>\n",
       "    <tr>\n",
       "      <th>hf-9dAwfK0uBuScm3pjVOQ</th>\n",
       "      <td>0</td>\n",
       "      <td>0</td>\n",
       "      <td>0</td>\n",
       "      <td>0</td>\n",
       "      <td>0</td>\n",
       "      <td>0</td>\n",
       "      <td>0</td>\n",
       "    </tr>\n",
       "    <tr>\n",
       "      <th>xScm9yRer2EOUU5x41yhrg</th>\n",
       "      <td>14</td>\n",
       "      <td>67</td>\n",
       "      <td>23</td>\n",
       "      <td>0</td>\n",
       "      <td>24</td>\n",
       "      <td>51</td>\n",
       "      <td>111</td>\n",
       "    </tr>\n",
       "  </tbody>\n",
       "</table>\n",
       "</div>"
      ],
      "text/plain": [
       "                        total  morningci  noonci  nightci  latenightci  \\\n",
       "mV2qIJvhYuHTI0_to25nrQ    492       2703     896       46         1099   \n",
       "vxkQj8d-h_xojFOCgHBu-g      0          2       2        0            2   \n",
       "hwCz3dtXNGhg0TGQgSjSiA     32        117      16        1           50   \n",
       "hf-9dAwfK0uBuScm3pjVOQ      0          0       0        0            0   \n",
       "xScm9yRer2EOUU5x41yhrg     14         67      23        0           24   \n",
       "\n",
       "                        weekci  weekendci  \n",
       "mV2qIJvhYuHTI0_to25nrQ    1846       4512  \n",
       "vxkQj8d-h_xojFOCgHBu-g       1          4  \n",
       "hwCz3dtXNGhg0TGQgSjSiA      73        203  \n",
       "hf-9dAwfK0uBuScm3pjVOQ       0          0  \n",
       "xScm9yRer2EOUU5x41yhrg      51        111  "
      ]
     },
     "execution_count": 10,
     "metadata": {},
     "output_type": "execute_result"
    }
   ],
   "source": [
    "clusterdata.head()"
   ]
  },
  {
   "cell_type": "code",
   "execution_count": 11,
   "metadata": {
    "collapsed": false
   },
   "outputs": [],
   "source": [
    "#clusterdata['mV2qIJvhYuHTI0_to25nrQ']"
   ]
  },
  {
   "cell_type": "code",
   "execution_count": 12,
   "metadata": {
    "collapsed": false
   },
   "outputs": [],
   "source": [
    "newcluster = dict()\n",
    "l1 = []\n",
    "for key in clusters.keys():\n",
    "    l1=[]\n",
    "    for node in clusters[key]:\n",
    "        l1.append(node[0])\n",
    "    newcluster[key[0]] = l1"
   ]
  },
  {
   "cell_type": "code",
   "execution_count": 13,
   "metadata": {
    "collapsed": false
   },
   "outputs": [],
   "source": [
    "def findcentre(row):\n",
    "    for key in newcluster.keys():\n",
    "        for node in newcluster[key]:\n",
    "            if row['business_id'] == node:\n",
    "                return key\n",
    "    \n",
    "    return 'NA'"
   ]
  },
  {
   "cell_type": "code",
   "execution_count": 14,
   "metadata": {
    "collapsed": false
   },
   "outputs": [],
   "source": [
    "edindata['centre'] = edindata.apply(lambda row:findcentre(row) ,axis=1)"
   ]
  },
  {
   "cell_type": "code",
   "execution_count": 15,
   "metadata": {
    "collapsed": false
   },
   "outputs": [],
   "source": [
    "def inthecol(row, col):\n",
    "    c =  row['centre']\n",
    "    try:\n",
    "        ra = clusterdata[clusterdata.index == c][col].values[0]\n",
    "        return ra\n",
    "    except: \n",
    "        return 0"
   ]
  },
  {
   "cell_type": "code",
   "execution_count": 16,
   "metadata": {
    "collapsed": false
   },
   "outputs": [],
   "source": [
    "edindata['morningci'] = edindata.apply(lambda row:inthecol(row,'morningci') ,axis=1)\n",
    "edindata['noonci'] = edindata.apply(lambda row:inthecol(row,'noonci') ,axis=1)\n",
    "edindata['nightci'] = edindata.apply(lambda row:inthecol(row,'nightci') ,axis=1)\n",
    "edindata['latenightci'] = edindata.apply(lambda row:inthecol(row,'latenightci') ,axis=1)\n",
    "edindata['weekci'] = edindata.apply(lambda row:inthecol(row,'weekci') ,axis=1)\n",
    "edindata['weekendci'] = edindata.apply(lambda row:inthecol(row,'weekendci') ,axis=1)"
   ]
  },
  {
   "cell_type": "code",
   "execution_count": 17,
   "metadata": {
    "collapsed": true
   },
   "outputs": [],
   "source": [
    "edindata['total'] = edindata['morningci']+edindata['noonci']+edindata['nightci']+edindata['latenightci']+edindata['weekci']+edindata['weekendci']"
   ]
  },
  {
   "cell_type": "code",
   "execution_count": 18,
   "metadata": {
    "collapsed": false
   },
   "outputs": [],
   "source": [
    "edindata['morningci'] = edindata['morningci']/ edindata['total']\n",
    "edindata['noonci'] = edindata['noonci']/ edindata['total']\n",
    "edindata['nightci'] = edindata['nightci']/ edindata['total']\n",
    "edindata['latenightci'] = edindata['latenightci']/ edindata['total']\n",
    "edindata['weekci'] = edindata['weekci']/ edindata['total']\n",
    "edindata['weekendci'] = edindata['weekendci']/ edindata['total']"
   ]
  },
  {
   "cell_type": "code",
   "execution_count": 19,
   "metadata": {
    "collapsed": false
   },
   "outputs": [],
   "source": [
    "usecolumns = ['business_id' , 'attributes' , 'categories' , 'review_count', 'stars' ,'centre','morningci' , 'noonci', 'nightci','latenightci','weekci', 'weekendci']"
   ]
  },
  {
   "cell_type": "code",
   "execution_count": 20,
   "metadata": {
    "collapsed": false
   },
   "outputs": [],
   "source": [
    "usedindata = edindata[usecolumns]"
   ]
  },
  {
   "cell_type": "code",
   "execution_count": 21,
   "metadata": {
    "collapsed": false
   },
   "outputs": [
    {
     "data": {
      "text/plain": [
       "pandas.core.frame.DataFrame"
      ]
     },
     "execution_count": 21,
     "metadata": {},
     "output_type": "execute_result"
    }
   ],
   "source": [
    "type(usedindata)"
   ]
  },
  {
   "cell_type": "code",
   "execution_count": 22,
   "metadata": {
    "collapsed": false
   },
   "outputs": [],
   "source": [
    "rows = usedindata.values.tolist()"
   ]
  },
  {
   "cell_type": "code",
   "execution_count": 23,
   "metadata": {
    "collapsed": true
   },
   "outputs": [],
   "source": [
    "import pickle\n",
    "\n",
    "file1 = open(r'useedindata.pkl', 'wb')\n",
    "pickle.dump(usedindata, file1)\n",
    "file1.close()"
   ]
  },
  {
   "cell_type": "code",
   "execution_count": 24,
   "metadata": {
    "collapsed": false
   },
   "outputs": [
    {
     "data": {
      "text/plain": [
       "[(u'guIvTBHp1oxs76q44qQ9Pg', 55.9508754, -3.1914633),\n",
       " (u'TI5mg9fDWLjt8G7Wo42U6A', 55.9508754, -3.1914633)]"
      ]
     },
     "execution_count": 24,
     "metadata": {},
     "output_type": "execute_result"
    }
   ],
   "source": [
    "deglist[:2]"
   ]
  },
  {
   "cell_type": "code",
   "execution_count": 26,
   "metadata": {
    "collapsed": true
   },
   "outputs": [],
   "source": [
    "degl = []\n",
    "for _, a, b in deglist:\n",
    "    if a is None or b is None:\n",
    "        print 'wtf'\n",
    "for d in deglist:\n",
    "    if d is None:\n",
    "        print 'hahaha'"
   ]
  },
  {
   "cell_type": "code",
   "execution_count": 33,
   "metadata": {
    "collapsed": true
   },
   "outputs": [],
   "source": [
    "def calcdistance(b1 , b2):\n",
    "\n",
    "    lat1 = math.radians(float(b1[1]))\n",
    "    lon1 = math.radians(float(b1[2]))\n",
    "    lat2 = math.radians(float(b2[1]))\n",
    "    lon2 = math.radians(float(b2[2]))\n",
    "    dlon = lon2 - lon1\n",
    "    dlat = lat2 - lat1\n",
    "    R = 6373.0\n",
    "    a = sin(dlat/ 2)**2 + cos(lat1) * cos(lat2) * sin(dlon / 2)**2\n",
    "    c = 2 * atan2(sqrt(a), sqrt(1 - a))\n",
    "\n",
    "    distance = R * c\n",
    "    return distance"
   ]
  },
  {
   "cell_type": "code",
   "execution_count": 43,
   "metadata": {
    "collapsed": false
   },
   "outputs": [],
   "source": [
    "import math\n",
    "import random\n",
    "def get_distance(row1, row2):\n",
    "    catmatch = 0\n",
    "    w= 100\n",
    "    w2 = 100\n",
    "    w3 = 10\n",
    "    tdist = 0\n",
    "    c1 =None\n",
    "    c2=None\n",
    "    for n in deglist:\n",
    "        if n[0] == row1[5]:\n",
    "            c1 = n\n",
    "    for n in deglist:\n",
    "        if n[0] == row2[5]:\n",
    "            c2 = n\n",
    "    \n",
    "    catmatch = len(set(row1[2])-set(row2[2]))\n",
    "    catmatchratio = (catmatch/max(len(row1[2]),len(row2[2]))) * w\n",
    "    for i in range(6,12):\n",
    "        dist = abs(row1[i] -row2[i])\n",
    "        tdist += w2 * dist\n",
    "    \n",
    "    if c1 is not None and c2 is not None:\n",
    "        pdist = calcdistance(c1,c2) * w3\n",
    "    else:\n",
    "        pdist =10000\n",
    "    return catmatchratio + tdist + pdist\n",
    "\n",
    "        #return catmatchratio + tdist + pdist \n",
    "        \n",
    "    #return random.randint(0, 50)"
   ]
  },
  {
   "cell_type": "code",
   "execution_count": 35,
   "metadata": {
    "collapsed": true
   },
   "outputs": [],
   "source": [
    "from __future__ import division\n",
    "def rate_instance_cluster(train_rows, instance_row, cluster_tuple, k=3):\n",
    "    \n",
    "    distances = []\n",
    "    total = 0.0\n",
    "    \n",
    "    cluster_name, _, _ = cluster_tuple\n",
    "    \n",
    "    instance_row_cp = list(instance_row)\n",
    "    instance_row_cp[5] = cluster_name\n",
    "    \n",
    "    for row in train_rows:\n",
    "        for n in deglist:\n",
    "            if n[0] == row[5]:\n",
    "                c2 = n\n",
    "        if c2 == None:\n",
    "            continue\n",
    "        distance = get_distance(instance_row_cp, row)\n",
    "        distances.append((distance, row))\n",
    "        \n",
    "    distances.sort()\n",
    "    #print(distances[:1])\n",
    "    \n",
    "    for _, row in distances[:k]:\n",
    "        \n",
    "        total += float(row[4])\n",
    "        \n",
    "    return total / k"
   ]
  },
  {
   "cell_type": "code",
   "execution_count": 47,
   "metadata": {
    "collapsed": false
   },
   "outputs": [],
   "source": [
    "def classify_instance(clusters, train_rows, instance_row, k=3):\n",
    "    \n",
    "    ratings = []\n",
    "    counter = 0\n",
    "    for cluster in clusters:\n",
    "        print('1')\n",
    "        rating = rate_instance_cluster(train_rows, instance_row, cluster, k)\n",
    "        ratings.append((rating, cluster))\n",
    "        counter += 1\n",
    "    #print('1')\n",
    "    \n",
    "    ratings.sort(reverse=True)\n",
    "    \n",
    "    return ratings[0][1][0]\n",
    "    "
   ]
  },
  {
   "cell_type": "code",
   "execution_count": 37,
   "metadata": {
    "collapsed": false
   },
   "outputs": [],
   "source": [
    "for d in deglist:\n",
    "    if len(d) != 3:\n",
    "        print(d)"
   ]
  },
  {
   "cell_type": "code",
   "execution_count": 38,
   "metadata": {
    "collapsed": false
   },
   "outputs": [
    {
     "data": {
      "text/plain": [
       "1512"
      ]
     },
     "execution_count": 38,
     "metadata": {},
     "output_type": "execute_result"
    }
   ],
   "source": [
    "1680 - 168"
   ]
  },
  {
   "cell_type": "code",
   "execution_count": 45,
   "metadata": {
    "collapsed": false
   },
   "outputs": [
    {
     "name": "stdout",
     "output_type": "stream",
     "text": [
      "0.0\n"
     ]
    }
   ],
   "source": [
    "train_rows = rows[:1512]\n",
    "test_rows = rows[1512:]\n",
    "row1 = rows[150]\n",
    "row2 = rows[150]\n",
    "print(get_distance(row1,row2))"
   ]
  },
  {
   "cell_type": "code",
   "execution_count": 48,
   "metadata": {
    "collapsed": false,
    "scrolled": false
   },
   "outputs": [
    {
     "ename": "KeyboardInterrupt",
     "evalue": "",
     "output_type": "error",
     "traceback": [
      "\u001b[0;31m---------------------------------------------------------------------------\u001b[0m",
      "\u001b[0;31mKeyboardInterrupt\u001b[0m                         Traceback (most recent call last)",
      "\u001b[0;32m<ipython-input-48-dcab3f4d54c0>\u001b[0m in \u001b[0;36m<module>\u001b[0;34m()\u001b[0m\n\u001b[1;32m      7\u001b[0m     \u001b[0;31m#if c1 == None:\u001b[0m\u001b[0;34m\u001b[0m\u001b[0;34m\u001b[0m\u001b[0m\n\u001b[1;32m      8\u001b[0m     \u001b[0;31m#    continue\u001b[0m\u001b[0;34m\u001b[0m\u001b[0;34m\u001b[0m\u001b[0m\n\u001b[0;32m----> 9\u001b[0;31m     \u001b[0;32mprint\u001b[0m \u001b[0mclassify_instance\u001b[0m\u001b[0;34m(\u001b[0m\u001b[0mclusters\u001b[0m\u001b[0;34m.\u001b[0m\u001b[0mkeys\u001b[0m\u001b[0;34m(\u001b[0m\u001b[0;34m)\u001b[0m\u001b[0;34m,\u001b[0m \u001b[0mtrain_rows\u001b[0m\u001b[0;34m,\u001b[0m \u001b[0mtest_row\u001b[0m\u001b[0;34m,\u001b[0m \u001b[0mk\u001b[0m\u001b[0;34m=\u001b[0m\u001b[0;36m5\u001b[0m\u001b[0;34m)\u001b[0m\u001b[0;34m,\u001b[0m \u001b[0mtest_row\u001b[0m\u001b[0;34m[\u001b[0m\u001b[0;36m5\u001b[0m\u001b[0;34m]\u001b[0m\u001b[0;34m\u001b[0m\u001b[0m\n\u001b[0m\u001b[1;32m     10\u001b[0m     \u001b[0;32mprint\u001b[0m\u001b[0;34m(\u001b[0m\u001b[0mcount\u001b[0m\u001b[0;34m)\u001b[0m\u001b[0;34m\u001b[0m\u001b[0m\n\u001b[1;32m     11\u001b[0m     \u001b[0mcount\u001b[0m\u001b[0;34m+=\u001b[0m\u001b[0;36m1\u001b[0m\u001b[0;34m\u001b[0m\u001b[0m\n",
      "\u001b[0;32m<ipython-input-47-73f053904d60>\u001b[0m in \u001b[0;36mclassify_instance\u001b[0;34m(clusters, train_rows, instance_row, k)\u001b[0m\n\u001b[1;32m      4\u001b[0m     \u001b[0mcounter\u001b[0m \u001b[0;34m=\u001b[0m \u001b[0;36m0\u001b[0m\u001b[0;34m\u001b[0m\u001b[0m\n\u001b[1;32m      5\u001b[0m     \u001b[0;32mfor\u001b[0m \u001b[0mcluster\u001b[0m \u001b[0;32min\u001b[0m \u001b[0mclusters\u001b[0m\u001b[0;34m:\u001b[0m\u001b[0;34m\u001b[0m\u001b[0m\n\u001b[0;32m----> 6\u001b[0;31m         \u001b[0mrating\u001b[0m \u001b[0;34m=\u001b[0m \u001b[0mrate_instance_cluster\u001b[0m\u001b[0;34m(\u001b[0m\u001b[0mtrain_rows\u001b[0m\u001b[0;34m,\u001b[0m \u001b[0minstance_row\u001b[0m\u001b[0;34m,\u001b[0m \u001b[0mcluster\u001b[0m\u001b[0;34m,\u001b[0m \u001b[0mk\u001b[0m\u001b[0;34m)\u001b[0m\u001b[0;34m\u001b[0m\u001b[0m\n\u001b[0m\u001b[1;32m      7\u001b[0m         \u001b[0mratings\u001b[0m\u001b[0;34m.\u001b[0m\u001b[0mappend\u001b[0m\u001b[0;34m(\u001b[0m\u001b[0;34m(\u001b[0m\u001b[0mrating\u001b[0m\u001b[0;34m,\u001b[0m \u001b[0mcluster\u001b[0m\u001b[0;34m)\u001b[0m\u001b[0;34m)\u001b[0m\u001b[0;34m\u001b[0m\u001b[0m\n\u001b[1;32m      8\u001b[0m         \u001b[0mcounter\u001b[0m \u001b[0;34m+=\u001b[0m \u001b[0;36m1\u001b[0m\u001b[0;34m\u001b[0m\u001b[0m\n",
      "\u001b[0;32m<ipython-input-35-efdf7836036d>\u001b[0m in \u001b[0;36mrate_instance_cluster\u001b[0;34m(train_rows, instance_row, cluster_tuple, k)\u001b[0m\n\u001b[1;32m     11\u001b[0m \u001b[0;34m\u001b[0m\u001b[0m\n\u001b[1;32m     12\u001b[0m     \u001b[0;32mfor\u001b[0m \u001b[0mrow\u001b[0m \u001b[0;32min\u001b[0m \u001b[0mtrain_rows\u001b[0m\u001b[0;34m:\u001b[0m\u001b[0;34m\u001b[0m\u001b[0m\n\u001b[0;32m---> 13\u001b[0;31m         \u001b[0;32mfor\u001b[0m \u001b[0mn\u001b[0m \u001b[0;32min\u001b[0m \u001b[0mdeglist\u001b[0m\u001b[0;34m[\u001b[0m\u001b[0;34m:\u001b[0m\u001b[0;36m3228\u001b[0m\u001b[0;34m]\u001b[0m\u001b[0;34m:\u001b[0m\u001b[0;34m\u001b[0m\u001b[0m\n\u001b[0m\u001b[1;32m     14\u001b[0m             \u001b[0;32mif\u001b[0m \u001b[0mn\u001b[0m\u001b[0;34m[\u001b[0m\u001b[0;36m0\u001b[0m\u001b[0;34m]\u001b[0m \u001b[0;34m==\u001b[0m \u001b[0mrow\u001b[0m\u001b[0;34m[\u001b[0m\u001b[0;36m5\u001b[0m\u001b[0;34m]\u001b[0m\u001b[0;34m:\u001b[0m\u001b[0;34m\u001b[0m\u001b[0m\n\u001b[1;32m     15\u001b[0m                 \u001b[0mc2\u001b[0m \u001b[0;34m=\u001b[0m \u001b[0mn\u001b[0m\u001b[0;34m\u001b[0m\u001b[0m\n",
      "\u001b[0;31mKeyboardInterrupt\u001b[0m: "
     ]
    }
   ],
   "source": [
    "i = 0\n",
    "count = 0\n",
    "for test_row in test_rows:\n",
    "    #for n in deglist[:3228]:\n",
    "    #    if n[0] == test_row[5]:\n",
    "    #        c1 = n\n",
    "    #if c1 == None:\n",
    "    #    continue\n",
    "    print classify_instance(clusters.keys(), train_rows, test_row, k=5), test_row[5]\n",
    "    print(count)\n",
    "    count+=1"
   ]
  },
  {
   "cell_type": "code",
   "execution_count": null,
   "metadata": {
    "collapsed": false
   },
   "outputs": [],
   "source": [
    "clusters.keys()"
   ]
  },
  {
   "cell_type": "code",
   "execution_count": null,
   "metadata": {
    "collapsed": true
   },
   "outputs": [],
   "source": []
  }
 ],
 "metadata": {
  "anaconda-cloud": {},
  "kernelspec": {
   "display_name": "Python [default]",
   "language": "python",
   "name": "python2"
  },
  "language_info": {
   "codemirror_mode": {
    "name": "ipython",
    "version": 2
   },
   "file_extension": ".py",
   "mimetype": "text/x-python",
   "name": "python",
   "nbconvert_exporter": "python",
   "pygments_lexer": "ipython2",
   "version": "2.7.12"
  }
 },
 "nbformat": 4,
 "nbformat_minor": 1
}
